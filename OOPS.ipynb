{
  "nbformat": 4,
  "nbformat_minor": 0,
  "metadata": {
    "colab": {
      "provenance": []
    },
    "kernelspec": {
      "name": "python3",
      "display_name": "Python 3"
    },
    "language_info": {
      "name": "python"
    }
  },
  "cells": [
    {
      "cell_type": "markdown",
      "source": [
        "# OOPS ASSIGNMENT"
      ],
      "metadata": {
        "id": "pRT7y1PiNhaD"
      }
    },
    {
      "cell_type": "markdown",
      "source": [
        "# Python OOPs Questions"
      ],
      "metadata": {
        "id": "koIe4NBzNleb"
      }
    },
    {
      "cell_type": "markdown",
      "source": [
        "1. What is Object-Oriented Programming (OOP)?\n",
        "\n",
        ">>OOP is a programming paradigm based on the concept of objects, which combine data (attributes) and behavior (methods).\n",
        "It helps organize code into reusable and modular components.\n",
        "\n",
        " 2. What is a class in OOP?\n",
        "\n",
        ">>A class is a blueprint or template for creating objects.\n",
        "It defines the properties (variables) and behaviors (methods) that the objects will have.\n",
        "Example-\n",
        "class Car:\n",
        "    def __init__(self, brand, color):\n",
        "        self.brand = brand\n",
        "        self.color = color\n",
        "\n",
        "3. What is an object in OOP?\n",
        "\n",
        ">>An object is an instance of a class.\n",
        "It represents a specific entity created from a class blueprint.\n",
        "Example-\n",
        "my_car = Car(\"Toyota\", \"Red\")\n",
        "\n",
        "4. Difference between Abstraction and Encapsulation\n",
        "Concept\tDescription\tExample\n",
        ">>Abstraction\tHides complex implementation details and shows only the necessary features.\tUsing a car’s steering wheel without knowing its internal mechanism.\n",
        ">>Encapsulation\tBundles data and methods into a single unit and restricts direct access to data.\tPrivate variables (__var) in a class.\n",
        " 5. What are Dunder Methods in Python?\n",
        "\n",
        ">>Dunder (Double Underscore) methods are special methods in Python that start and end with __.\n",
        "They customize class behavior.\n",
        "\n",
        "Examples:\n",
        "\n",
        "__init__() → constructor\n",
        "\n",
        "__str__() → string representation\n",
        "\n",
        "__len__() → length of an object\n",
        "\n",
        " 6. Explain the concept of Inheritance in OOP\n",
        "\n",
        ">>Inheritance allows a class (child) to inherit attributes and methods from another class (parent).\n",
        "It promotes code reuse.\n",
        "Example-\n",
        "class Animal:\n",
        "    def sound(self):\n",
        "        print(\"Some sound\")\n",
        "\n",
        "class Dog(Animal):\n",
        "    def sound(self):\n",
        "        print(\"Bark\")\n",
        "\n",
        "7. What is Polymorphism in OOP?\n",
        "\n",
        ">>Polymorphism means “many forms.”\n",
        "It allows different classes to define methods with the same name but different behaviors.\n",
        "example-\n",
        "for animal in [Dog(), Cat()]:\n",
        "    animal.sound()  # Dog → Bark, Cat → Meow\n",
        "\n",
        " 8. How is Encapsulation achieved in Python?\n",
        "\n",
        ">>Encapsulation is achieved using private and protected attributes.\n",
        "Example-\n",
        "class Person:\n",
        "    def __init__(self, name):\n",
        "        self.__name = name  # private\n",
        "\n",
        "\n",
        " 9. What is a Constructor in Python?\n",
        "\n",
        ">>A constructor is a special method (__init__) that initializes an object’s attributes when it’s created.\n",
        "\n",
        " 10. What are Class and Static Methods in Python?\n",
        "\n",
        ">>Type\tDecorator\tAccess\tUsed For\n",
        "Instance Method\tNone\tObject\tWorks on instance data\n",
        "Class Method\t@classmethod\tClass (cls)\tWorks on class-level data\n",
        "Static Method\t@staticmethod\tNone\tUtility functions, not tied to class or instance\n",
        "\n",
        " 11. What is Method Overloading in Python?\n",
        "\n",
        ">>Python doesn’t support true method overloading.\n",
        "It can be simulated by using default arguments or *args.\n",
        "\n",
        " 12. What is Method Overriding in OOP?\n",
        "\n",
        ">>A child class redefines a method from its parent class with the same name.\n",
        "\n",
        " 13. What is a Property Decorator in Python?\n",
        "\n",
        ">>@property allows you to access methods like attributes, useful for getter/setter behavior.\n",
        "Example-\n",
        "class Student:\n",
        "    def __init__(self, name):\n",
        "        self._name = name\n",
        "    \n",
        "    @property\n",
        "    def name(self):\n",
        "        return self._name\n",
        "\n",
        "14. Why is Polymorphism important in OOP?\n",
        "\n",
        ">>It increases flexibility and scalability — you can write generic code that works with different object types.\n",
        "\n",
        " 15. What is an Abstract Class in Python?\n",
        "\n",
        ">>An abstract class is a base class that can’t be instantiated.\n",
        "It contains abstract methods (declared but not defined).\n",
        "Use the abc module.\n",
        "\n",
        " 16. What are the Advantages of OOP?\n",
        "\n",
        ">>Code reusability (through inheritance)\n",
        "\n",
        "Modularity\n",
        "\n",
        "Easier maintenance\n",
        "\n",
        "Abstraction hides complexity\n",
        "\n",
        "Encapsulation enhances security\n",
        "\n",
        " 17. Difference between Class Variable and Instance Variable\n",
        ">>Type\tShared\tDefined In\n",
        "Class Variable\tShared by all instances\tInside class, outside methods\n",
        "Instance Variable\tUnique to each object\tInside __init__()\n",
        "\n",
        " 18. What is Multiple Inheritance in Python?\n",
        "\n",
        ">>When a class inherits from more than one parent class.\n",
        "\n",
        "class C(A, B):\n",
        "    pass\n",
        "\n",
        " 19. Purpose of __str__ and __repr__\n",
        "\n",
        ">>Method\tPurpose\n",
        "__str__\tUser-friendly representation (print())\n",
        "__repr__\tDeveloper-oriented representation (debugging)\n",
        "\n",
        " 20. Significance of super() Function\n",
        "\n",
        ">>super() is used to call methods of the parent class inside the child class — especially in inheritance.\n",
        "\n",
        " 21. Significance of the __del__ Method\n",
        "\n",
        ">>__del__() is a destructor, called when an object is deleted or goes out of scope.\n",
        "\n",
        " 22. Difference between @staticmethod and @classmethod\n",
        "\n",
        ">>Feature\t@staticmethod\t@classmethod\n",
        "Takes self or cls\tNo\tYes (cls)\n",
        "Works on\tIndependent logic\tClass-level data\n",
        "Access to class attributes\tNo\tYes\n",
        "\n",
        " 23. How does Polymorphism work with Inheritance?\n",
        "\n",
        ">>A subclass overrides a method from its parent, and the correct version is called based on the object type at runtime.\n",
        "\n",
        " 24. What is Method Chaining in Python OOP?\n",
        "\n",
        ">>It means calling multiple methods on the same object in a single line by returning self.\n",
        "Example-\n",
        "class Math:\n",
        "    def add(self, x): self.num += x; return self\n",
        "\n",
        "25. What is the purpose of the __call__ method?\n",
        "\n",
        "It makes an object callable like a function.\n",
        "Example-\n",
        "class Greet:\n",
        "    def __call__(self):\n",
        "        print(\"Hello!\")\n",
        "\n",
        "obj = Greet()\n",
        "obj()  # Calls __call__\n"
      ],
      "metadata": {
        "id": "cwNScKX1N3gq"
      }
    },
    {
      "cell_type": "markdown",
      "source": [
        "# PRACTICAL QUESTIONS"
      ],
      "metadata": {
        "id": "eAerWOiDAo5F"
      }
    },
    {
      "cell_type": "markdown",
      "source": [
        "1.Create a parent class Animal with a method speak() that prints a generic message. Create a child class Dog\n",
        "that overrides the speak() method to print \"Bark!\"."
      ],
      "metadata": {
        "id": "bJCeYh0MAtWm"
      }
    },
    {
      "cell_type": "code",
      "source": [
        "class Animal:\n",
        "  def speak(self):\n",
        "    print (\"i am an animal\")\n",
        "\n",
        "class Dog(Animal):\n",
        "  def speak(self):\n",
        "    print(\"bark\")"
      ],
      "metadata": {
        "id": "-PK-hbvjAvq5"
      },
      "execution_count": null,
      "outputs": []
    },
    {
      "cell_type": "code",
      "source": [
        "a=Animal()"
      ],
      "metadata": {
        "id": "t1SFVBWsBNBo"
      },
      "execution_count": null,
      "outputs": []
    },
    {
      "cell_type": "code",
      "source": [
        "a.speak()"
      ],
      "metadata": {
        "colab": {
          "base_uri": "https://localhost:8080/"
        },
        "id": "rsEEw54NBnQ_",
        "outputId": "fa61f264-68a3-470d-de2e-94724b3aeefa"
      },
      "execution_count": null,
      "outputs": [
        {
          "output_type": "stream",
          "name": "stdout",
          "text": [
            "i am an animal\n"
          ]
        }
      ]
    },
    {
      "cell_type": "code",
      "source": [
        "d=Dog()"
      ],
      "metadata": {
        "id": "nAE1-C8LBqFf"
      },
      "execution_count": null,
      "outputs": []
    },
    {
      "cell_type": "code",
      "source": [
        "d.speak()"
      ],
      "metadata": {
        "colab": {
          "base_uri": "https://localhost:8080/"
        },
        "id": "eL1UEInJBu-Q",
        "outputId": "6d92e354-a0f0-4b2c-e5f3-4468e306a505"
      },
      "execution_count": null,
      "outputs": [
        {
          "output_type": "stream",
          "name": "stdout",
          "text": [
            "bark\n"
          ]
        }
      ]
    },
    {
      "cell_type": "markdown",
      "source": [
        "2. Write a program to create an abstract class Shape with a method area(). Derive classes Circle and Rectangle\n",
        "from it and implement the area() method in both."
      ],
      "metadata": {
        "id": "y3U6FFY5CNK1"
      }
    },
    {
      "cell_type": "code",
      "source": [
        "class shape:\n",
        "  def area(self):\n",
        "    print (\"area\")\n",
        "\n",
        "class circle(shape):\n",
        "  def area(self,r):\n",
        "    print (3.14*r**2)\n",
        "\n",
        "class rectangle(shape):\n",
        "  def area (self,x,y):\n",
        "    print (x*y)"
      ],
      "metadata": {
        "id": "TB3kx2tMCTVu"
      },
      "execution_count": null,
      "outputs": []
    },
    {
      "cell_type": "code",
      "source": [
        "a=circle()\n"
      ],
      "metadata": {
        "id": "UKomIi21DO3L"
      },
      "execution_count": null,
      "outputs": []
    },
    {
      "cell_type": "code",
      "source": [
        "a.area(5)"
      ],
      "metadata": {
        "colab": {
          "base_uri": "https://localhost:8080/"
        },
        "id": "m8hPVYm-DcZH",
        "outputId": "52ae98c8-d710-4c0a-b115-3108b61031b4"
      },
      "execution_count": null,
      "outputs": [
        {
          "output_type": "stream",
          "name": "stdout",
          "text": [
            "78.5\n"
          ]
        }
      ]
    },
    {
      "cell_type": "code",
      "source": [
        "a=rectangle()"
      ],
      "metadata": {
        "id": "cmxVvGfnDjaJ"
      },
      "execution_count": null,
      "outputs": []
    },
    {
      "cell_type": "code",
      "source": [
        "a.area(3,4)"
      ],
      "metadata": {
        "colab": {
          "base_uri": "https://localhost:8080/"
        },
        "id": "DzwA_sDeDm5s",
        "outputId": "d48e9d81-c490-46ca-a4e0-c7d12a92af3b"
      },
      "execution_count": null,
      "outputs": [
        {
          "output_type": "stream",
          "name": "stdout",
          "text": [
            "12\n"
          ]
        }
      ]
    },
    {
      "cell_type": "markdown",
      "source": [
        "\n",
        "3. Implement a multi-level inheritance scenario where a class Vehicle has an attribute type. Derive a class Car\n",
        "and further derive a class ElectricCar that adds a battery attribute.\n"
      ],
      "metadata": {
        "id": "4aqaSASqDpab"
      }
    },
    {
      "cell_type": "code",
      "source": [
        "class Vehicle:\n",
        "    def __init__(self, vehicle_type):\n",
        "        self.type = vehicle_type\n",
        "\n",
        "class Car(Vehicle):\n",
        "    def __init__(self, vehicle_type, brand):\n",
        "        super().__init__(vehicle_type)\n",
        "        self.brand = brand\n",
        "\n",
        "class ElectricCar(Car):\n",
        "    def __init__(self, vehicle_type, brand, battery_capacity):\n",
        "        super().__init__(vehicle_type, brand)\n",
        "        self.battery = battery_capacity"
      ],
      "metadata": {
        "id": "OLZs836iDs6r"
      },
      "execution_count": null,
      "outputs": []
    },
    {
      "cell_type": "code",
      "source": [
        "ecar = ElectricCar(\"Four Wheeler\", \"Tesla\", \"85 kWh\")"
      ],
      "metadata": {
        "id": "U8n_gdT4Eckz"
      },
      "execution_count": null,
      "outputs": []
    },
    {
      "cell_type": "code",
      "source": [
        "ecar.battery"
      ],
      "metadata": {
        "colab": {
          "base_uri": "https://localhost:8080/",
          "height": 36
        },
        "id": "n4RyD8SGHssJ",
        "outputId": "8779ab9b-6370-4ae9-f7dc-a2901116cdcd"
      },
      "execution_count": null,
      "outputs": [
        {
          "output_type": "execute_result",
          "data": {
            "text/plain": [
              "'85 kWh'"
            ],
            "application/vnd.google.colaboratory.intrinsic+json": {
              "type": "string"
            }
          },
          "metadata": {},
          "execution_count": 29
        }
      ]
    },
    {
      "cell_type": "code",
      "source": [
        "ecar.type"
      ],
      "metadata": {
        "colab": {
          "base_uri": "https://localhost:8080/",
          "height": 36
        },
        "id": "E3c3XAOwHwpj",
        "outputId": "97a335b7-7a87-4c43-a63b-a4c122afd58d"
      },
      "execution_count": null,
      "outputs": [
        {
          "output_type": "execute_result",
          "data": {
            "text/plain": [
              "'Four Wheeler'"
            ],
            "application/vnd.google.colaboratory.intrinsic+json": {
              "type": "string"
            }
          },
          "metadata": {},
          "execution_count": 30
        }
      ]
    },
    {
      "cell_type": "markdown",
      "source": [
        "4. Demonstrate polymorphism by creating a base class Bird with a method fly(). Create two derived classes\n",
        "Sparrow and Penguin that override the fly() method."
      ],
      "metadata": {
        "id": "5DD79GhgH2bo"
      }
    },
    {
      "cell_type": "code",
      "source": [
        "class Bird:\n",
        "  def fly(self):\n",
        "     print (\"bird\")\n",
        "\n",
        "class sparrow(Bird):\n",
        "  def fly(self):\n",
        "     print (\"sparrow\")\n",
        "\n",
        "class penguin(Bird):\n",
        "  def fly(self):\n",
        "     print (\"penguin\")"
      ],
      "metadata": {
        "id": "qyeJZa6sIGGs"
      },
      "execution_count": null,
      "outputs": []
    },
    {
      "cell_type": "code",
      "source": [
        "a=Bird()"
      ],
      "metadata": {
        "id": "4m_nkBdVIwHl"
      },
      "execution_count": null,
      "outputs": []
    },
    {
      "cell_type": "code",
      "source": [
        "a.fly()"
      ],
      "metadata": {
        "colab": {
          "base_uri": "https://localhost:8080/"
        },
        "id": "W2oMnhKvI4Ed",
        "outputId": "ad8dd4a4-6f41-49fc-b355-1ef0db1d53e6"
      },
      "execution_count": null,
      "outputs": [
        {
          "output_type": "stream",
          "name": "stdout",
          "text": [
            "bird\n"
          ]
        }
      ]
    },
    {
      "cell_type": "code",
      "source": [
        "b=sparrow()"
      ],
      "metadata": {
        "id": "evZHhrvZI6zn"
      },
      "execution_count": null,
      "outputs": []
    },
    {
      "cell_type": "code",
      "source": [
        "b.fly()"
      ],
      "metadata": {
        "colab": {
          "base_uri": "https://localhost:8080/"
        },
        "id": "jNSStjCkJAIZ",
        "outputId": "334ca569-98b7-484e-a544-c51fd87f3489"
      },
      "execution_count": null,
      "outputs": [
        {
          "output_type": "stream",
          "name": "stdout",
          "text": [
            "sparrow\n"
          ]
        }
      ]
    },
    {
      "cell_type": "markdown",
      "source": [
        "5. Write a program to demonstrate encapsulation by creating a class BankAccount with private attributes\n",
        "balance and methods to deposit, withdraw, and check balance."
      ],
      "metadata": {
        "id": "8cDAb0mzJHKW"
      }
    },
    {
      "cell_type": "code",
      "source": [
        "class BankAccount:\n",
        "  def __init__(self, initial_balance=0):\n",
        "        self.__balance = initial_balance\n",
        "\n",
        "  def deposit(self, amount):\n",
        "        if amount > 0:\n",
        "            self.__balance += amount\n",
        "            print(f\"Deposited: ₹{amount}\")\n",
        "        else:\n",
        "            print(\"Deposit amount must be positive.\")\n",
        "\n",
        "  def withdraw(self, amount):\n",
        "        if 0 < amount <= self.__balance:\n",
        "            self.__balance -= amount\n",
        "            print(f\"Withdrew: ₹{amount}\")\n",
        "        else:\n",
        "            print(\"Insufficient balance or invalid amount.\")\n",
        "\n",
        "  def check_balance(self):\n",
        "        print(f\"Current balance: ₹{self.__balance}\")\n",
        "\n"
      ],
      "metadata": {
        "id": "TOeqy9k0JIKU"
      },
      "execution_count": null,
      "outputs": []
    },
    {
      "cell_type": "code",
      "source": [
        "a=BankAccount(1000)"
      ],
      "metadata": {
        "id": "8KLPxggJMF-w"
      },
      "execution_count": null,
      "outputs": []
    },
    {
      "cell_type": "code",
      "source": [
        "a.deposit(500)"
      ],
      "metadata": {
        "colab": {
          "base_uri": "https://localhost:8080/"
        },
        "id": "j4y0N7UqMK59",
        "outputId": "b0a95f76-8a7c-478f-c14f-1f62fb564228"
      },
      "execution_count": null,
      "outputs": [
        {
          "output_type": "stream",
          "name": "stdout",
          "text": [
            "Deposited: ₹500\n"
          ]
        }
      ]
    },
    {
      "cell_type": "code",
      "source": [
        "a.check_balance()"
      ],
      "metadata": {
        "colab": {
          "base_uri": "https://localhost:8080/"
        },
        "id": "Ca6OdpEtMdDt",
        "outputId": "0d65cd67-653d-41f4-d001-7bed2dec3bb7"
      },
      "execution_count": null,
      "outputs": [
        {
          "output_type": "stream",
          "name": "stdout",
          "text": [
            "Current balance: ₹1500\n"
          ]
        }
      ]
    },
    {
      "cell_type": "code",
      "source": [
        "a.withdraw(200)"
      ],
      "metadata": {
        "colab": {
          "base_uri": "https://localhost:8080/"
        },
        "id": "cLEg3MWzMg3y",
        "outputId": "e21c70fc-ceef-4843-f56a-09fcfb7d544d"
      },
      "execution_count": null,
      "outputs": [
        {
          "output_type": "stream",
          "name": "stdout",
          "text": [
            "Withdrew: ₹200\n"
          ]
        }
      ]
    },
    {
      "cell_type": "code",
      "source": [],
      "metadata": {
        "id": "J0oYStnlMdBp"
      },
      "execution_count": null,
      "outputs": []
    },
    {
      "cell_type": "code",
      "source": [
        "a.check_balance()"
      ],
      "metadata": {
        "colab": {
          "base_uri": "https://localhost:8080/"
        },
        "id": "PZILuE1LMkVd",
        "outputId": "a912957d-3895-4773-b8f1-987186a99708"
      },
      "execution_count": null,
      "outputs": [
        {
          "output_type": "stream",
          "name": "stdout",
          "text": [
            "Current balance: ₹1300\n"
          ]
        }
      ]
    },
    {
      "cell_type": "markdown",
      "source": [
        "6. Demonstrate runtime polymorphism using a method play() in a base class Instrument. Derive classes Guitar\n",
        "and Piano that implement their own version of play().\n"
      ],
      "metadata": {
        "id": "3MP9jxPSMnxs"
      }
    },
    {
      "cell_type": "code",
      "source": [
        "class Instrument:\n",
        "    def play(self):\n",
        "        print(\"Playing an instrument...\")\n",
        "\n",
        "\n",
        "class Guitar(Instrument):\n",
        "    def play(self):\n",
        "        print(\"Strumming the guitar \")\n",
        "\n",
        "\n",
        "class Piano(Instrument):\n",
        "    def play(self):\n",
        "        print(\"Playing the piano \")\n",
        "\n",
        "\n",
        "def start_playing(instrument):\n",
        "    instrument.play()\n"
      ],
      "metadata": {
        "id": "TZg45xh9N6Rt"
      },
      "execution_count": null,
      "outputs": []
    },
    {
      "cell_type": "code",
      "source": [
        "guitar = Guitar()\n",
        "piano = Piano()\n",
        "\n",
        "\n",
        "start_playing(guitar)\n",
        "start_playing(piano)"
      ],
      "metadata": {
        "colab": {
          "base_uri": "https://localhost:8080/"
        },
        "id": "dBOsbf6nMs-T",
        "outputId": "fae5e6fb-93d0-4c90-86f1-21c1cff4cf93"
      },
      "execution_count": null,
      "outputs": [
        {
          "output_type": "stream",
          "name": "stdout",
          "text": [
            "Strumming the guitar \n",
            "Playing the piano \n"
          ]
        }
      ]
    },
    {
      "cell_type": "markdown",
      "source": [
        "7. Create a class MathOperations with a class method add_numbers() to add two numbers and a static\n",
        "method subtract_numbers() to subtract two numbers.\n"
      ],
      "metadata": {
        "id": "DT8b0XV5OVTr"
      }
    },
    {
      "cell_type": "code",
      "source": [
        "class MathOperations:\n",
        "\n",
        "    @classmethod\n",
        "    def add_numbers(cls, a, b):\n",
        "        return a + b\n",
        "\n",
        "\n",
        "    @staticmethod\n",
        "    def subtract_numbers(a, b):\n",
        "        return a - b\n",
        "\n"
      ],
      "metadata": {
        "id": "gqP2WIrROfSN"
      },
      "execution_count": null,
      "outputs": []
    },
    {
      "cell_type": "code",
      "source": [
        "b=MathOperations()"
      ],
      "metadata": {
        "id": "eQESmvdYP30F"
      },
      "execution_count": null,
      "outputs": []
    },
    {
      "cell_type": "code",
      "source": [
        "b.add_numbers(5,8)"
      ],
      "metadata": {
        "colab": {
          "base_uri": "https://localhost:8080/"
        },
        "id": "Cl55UjLGP83h",
        "outputId": "3561ff0b-ffe0-4334-a7d6-51764253fb9c"
      },
      "execution_count": null,
      "outputs": [
        {
          "output_type": "execute_result",
          "data": {
            "text/plain": [
              "13"
            ]
          },
          "metadata": {},
          "execution_count": 66
        }
      ]
    },
    {
      "cell_type": "code",
      "source": [
        "b.subtract_numbers(7,2)"
      ],
      "metadata": {
        "colab": {
          "base_uri": "https://localhost:8080/"
        },
        "id": "TcPhColOQALs",
        "outputId": "33a1a5dc-0ad2-4451-824e-f1e8e88053cc"
      },
      "execution_count": null,
      "outputs": [
        {
          "output_type": "execute_result",
          "data": {
            "text/plain": [
              "5"
            ]
          },
          "metadata": {},
          "execution_count": 67
        }
      ]
    },
    {
      "cell_type": "markdown",
      "source": [
        "\n",
        "8. Implement a class Person with a class method to count the total number of persons created."
      ],
      "metadata": {
        "id": "199y7HkyQGna"
      }
    },
    {
      "cell_type": "code",
      "source": [
        "class person:\n",
        "  total=0\n",
        "  def __init__(self,name):\n",
        "    self.name=name\n",
        "    person.total+=1\n",
        "\n",
        "  @classmethod\n",
        "  def total_persons(cls):\n",
        "        print(f\"Total persons created: {cls.total}\")\n",
        "\n"
      ],
      "metadata": {
        "id": "ifq7VDWSQGYZ"
      },
      "execution_count": null,
      "outputs": []
    },
    {
      "cell_type": "code",
      "source": [
        "obj1=person(\"a\")\n",
        "obj2=person(\"b\")\n",
        "obj3=person(\"c\")\n",
        "obj4=person(\"d\")"
      ],
      "metadata": {
        "id": "E3YmZ8V_QPpS"
      },
      "execution_count": null,
      "outputs": []
    },
    {
      "cell_type": "code",
      "source": [
        "person.total_persons()"
      ],
      "metadata": {
        "colab": {
          "base_uri": "https://localhost:8080/"
        },
        "id": "whSmlHKzRr9i",
        "outputId": "82767848-9402-450c-f3cc-02a6d83a9710"
      },
      "execution_count": null,
      "outputs": [
        {
          "output_type": "stream",
          "name": "stdout",
          "text": [
            "Total persons created: 4\n"
          ]
        }
      ]
    },
    {
      "cell_type": "code",
      "source": [
        "\n",
        "9. Write a class Fraction with attributes numerator and denominator. Override the str method to display the\n",
        "fraction as \"numerator/denominator\".\n"
      ],
      "metadata": {
        "id": "F-MXho1yROZF"
      },
      "execution_count": null,
      "outputs": []
    },
    {
      "cell_type": "code",
      "source": [
        "class fractions:\n",
        "  def __init__(self,numerator,denominator):\n",
        "    self.numerator=numerator\n",
        "    self.denominator=denominator\n",
        "\n",
        "  def __str__(self):\n",
        "        return f\"{self.numerator}/{self.denominator}\"\n",
        "\n"
      ],
      "metadata": {
        "id": "C1SzfYotSmWk"
      },
      "execution_count": null,
      "outputs": []
    },
    {
      "cell_type": "code",
      "source": [
        "f1 = fractions(3, 4)\n",
        "print(f1)"
      ],
      "metadata": {
        "colab": {
          "base_uri": "https://localhost:8080/"
        },
        "id": "50pUrfdBUTHc",
        "outputId": "aa656e02-4828-4ccb-e5a0-7182ccd3e6fe"
      },
      "execution_count": null,
      "outputs": [
        {
          "output_type": "stream",
          "name": "stdout",
          "text": [
            "3/4\n"
          ]
        }
      ]
    },
    {
      "cell_type": "markdown",
      "source": [
        "\n",
        "10. Demonstrate operator overloading by creating a class Vector and overriding the add method to add two\n",
        "vectors."
      ],
      "metadata": {
        "id": "_-cgwW1GUhoa"
      }
    },
    {
      "cell_type": "code",
      "source": [
        "class Vector:\n",
        "    def __init__(self, x, y):\n",
        "        self.x = x\n",
        "        self.y = y\n",
        "\n",
        "\n",
        "    def __add__(self, other):\n",
        "        return Vector(self.x + other.x, self.y + other.y)\n",
        "\n",
        "\n",
        "    def __str__(self):\n",
        "        return f\"({self.x}, {self.y})\""
      ],
      "metadata": {
        "id": "N5ZmEOEmVIV3"
      },
      "execution_count": null,
      "outputs": []
    },
    {
      "cell_type": "code",
      "source": [
        "v1 = Vector(2, 3)\n",
        "v2 = Vector(4, 5)\n",
        "\n",
        "v3 = v1 + v2\n",
        "\n",
        "print(\"v1 + v2 =\", v3)"
      ],
      "metadata": {
        "colab": {
          "base_uri": "https://localhost:8080/"
        },
        "id": "3g6J8B14VMym",
        "outputId": "8d7f66a6-23a6-4621-ecca-13699163cb57"
      },
      "execution_count": null,
      "outputs": [
        {
          "output_type": "stream",
          "name": "stdout",
          "text": [
            "v1 + v2 = (6, 8)\n"
          ]
        }
      ]
    },
    {
      "cell_type": "markdown",
      "source": [
        "\n",
        "11. Create a class Person with attributes name and age. Add a method greet() that prints \"Hello, my name is\n",
        "{name} and I am {age} years old.\""
      ],
      "metadata": {
        "id": "Eg_B4M3uVUl8"
      }
    },
    {
      "cell_type": "code",
      "source": [
        "class Person:\n",
        "  def  __init__(self,name,age):\n",
        "    self.name=name\n",
        "    self.age=age\n",
        "  def greet(self):\n",
        "    print(f\"Hello, my name is {self.name} and I am {self.age} years old.\")"
      ],
      "metadata": {
        "id": "RfRdT5rymM0D"
      },
      "execution_count": 2,
      "outputs": []
    },
    {
      "cell_type": "code",
      "source": [
        "person1 = Person(\"Alice\", 25)\n",
        "person1.greet()"
      ],
      "metadata": {
        "colab": {
          "base_uri": "https://localhost:8080/"
        },
        "id": "_jcGEu29n_jI",
        "outputId": "e246bbd4-ab65-4e68-8e1d-8359c019e24c"
      },
      "execution_count": 4,
      "outputs": [
        {
          "output_type": "stream",
          "name": "stdout",
          "text": [
            "Hello, my name is Alice and I am 25 years old.\n"
          ]
        }
      ]
    },
    {
      "cell_type": "markdown",
      "source": [
        "12. Implement a class Student with attributes name and grades. Create a method average_grade() to compute\n",
        "the average of the grades."
      ],
      "metadata": {
        "id": "wV1OONeLoIgD"
      }
    },
    {
      "cell_type": "code",
      "source": [
        "class Student:\n",
        "  def  __init__(self,name,grades):\n",
        "    self.name=name\n",
        "    self.grades=grades\n",
        "\n",
        "  def grades_average(self):\n",
        "    return sum(self.grades) / len(self.grades)"
      ],
      "metadata": {
        "id": "RcjZPsgxoOeB"
      },
      "execution_count": 5,
      "outputs": []
    },
    {
      "cell_type": "code",
      "source": [
        "student1 = Student(\"Alice\", [85, 90, 78])\n",
        "student1.grades_average()"
      ],
      "metadata": {
        "colab": {
          "base_uri": "https://localhost:8080/"
        },
        "id": "B-VAthSZpKz7",
        "outputId": "6ee55030-138e-4d28-f3c6-12864526f608"
      },
      "execution_count": 7,
      "outputs": [
        {
          "output_type": "execute_result",
          "data": {
            "text/plain": [
              "84.33333333333333"
            ]
          },
          "metadata": {},
          "execution_count": 7
        }
      ]
    },
    {
      "cell_type": "markdown",
      "source": [
        "13.Create a class Rectangle with methods set_dimensions() to set the dimensions and area() to calculate the\n",
        "area.\n"
      ],
      "metadata": {
        "id": "k13olxn7pVQN"
      }
    },
    {
      "cell_type": "code",
      "source": [
        "class Rectangle:\n",
        "    def __init__(self,length,width):\n",
        "        self.length = 0\n",
        "        self.width = 0\n",
        "\n",
        "\n",
        "    def set_dimensions(self, length, width):\n",
        "        self.length = length\n",
        "        self.width = width\n",
        "\n",
        "    def area(self):\n",
        "        return self.length * self.width"
      ],
      "metadata": {
        "id": "LkNcq1QGpqlt"
      },
      "execution_count": 9,
      "outputs": []
    },
    {
      "cell_type": "code",
      "source": [
        "b=Rectangle()"
      ],
      "metadata": {
        "id": "krqq0UgTqeMa"
      },
      "execution_count": 10,
      "outputs": []
    },
    {
      "cell_type": "code",
      "source": [
        "b.set_dimensions(5,6)"
      ],
      "metadata": {
        "id": "_KaZ5PxPqpxj"
      },
      "execution_count": 11,
      "outputs": []
    },
    {
      "cell_type": "code",
      "source": [
        "b.area()"
      ],
      "metadata": {
        "colab": {
          "base_uri": "https://localhost:8080/"
        },
        "id": "HyMvifE9qto1",
        "outputId": "35606121-b726-49fd-8377-b190ebbf0236"
      },
      "execution_count": 13,
      "outputs": [
        {
          "output_type": "execute_result",
          "data": {
            "text/plain": [
              "30"
            ]
          },
          "metadata": {},
          "execution_count": 13
        }
      ]
    },
    {
      "cell_type": "markdown",
      "source": [
        "\n",
        "14. Create a class Employee with a method calculate_salary() that computes the salary based on hours worked\n",
        "and hourly rate. Create a derived class Manager that adds a bonus to the salary."
      ],
      "metadata": {
        "id": "hxjTL6HUqwwx"
      }
    },
    {
      "cell_type": "code",
      "source": [
        "class Employee:\n",
        "  def __init__(self,hours_worked,hours_rate):\n",
        "    self.hours_worked=hours_worked\n",
        "    self.hours_rate=hours_rate\n",
        "\n",
        "  def calculate_salary(self):\n",
        "    return self.hours_worked*self.hours_rate\n",
        "\n",
        "class Manager(Employee):\n",
        "    def __init__(self, hours_worked, hourly_rate, bonus):\n",
        "        super().__init__( hours_worked, hourly_rate)\n",
        "        self.bonus = bonus\n",
        "\n",
        "    def calculate_salary(self):\n",
        "        base_salary = super().calculate_salary()\n",
        "        return base_salary + self.bonus\n",
        "\n",
        "\n",
        "\n"
      ],
      "metadata": {
        "id": "haU6fpZZq8YX"
      },
      "execution_count": 32,
      "outputs": []
    },
    {
      "cell_type": "code",
      "source": [
        "ram=Employee(12,200)"
      ],
      "metadata": {
        "id": "4RAxuIFHq_JN"
      },
      "execution_count": 28,
      "outputs": []
    },
    {
      "cell_type": "code",
      "source": [
        "ram.calculate_salary()"
      ],
      "metadata": {
        "colab": {
          "base_uri": "https://localhost:8080/"
        },
        "id": "GTDHQzy8sH6w",
        "outputId": "4e538c33-3d6f-45a1-ebdf-302e3b9b4563"
      },
      "execution_count": 29,
      "outputs": [
        {
          "output_type": "execute_result",
          "data": {
            "text/plain": [
              "2400"
            ]
          },
          "metadata": {},
          "execution_count": 29
        }
      ]
    },
    {
      "cell_type": "code",
      "source": [
        "ram=Manager(12,200,500)"
      ],
      "metadata": {
        "id": "e07AFFDzsMLZ"
      },
      "execution_count": 34,
      "outputs": []
    },
    {
      "cell_type": "code",
      "source": [
        "ram.calculate_salary()"
      ],
      "metadata": {
        "colab": {
          "base_uri": "https://localhost:8080/"
        },
        "id": "VlMwMLcIsRKC",
        "outputId": "279daf36-ec7d-4dca-d488-0292a70e1281"
      },
      "execution_count": 36,
      "outputs": [
        {
          "output_type": "execute_result",
          "data": {
            "text/plain": [
              "2900"
            ]
          },
          "metadata": {},
          "execution_count": 36
        }
      ]
    },
    {
      "cell_type": "markdown",
      "source": [
        "\n",
        "15. Create a class Product with attributes name, price, and quantity. Implement a method total_price() that\n",
        "calculates the total price of the product.\n"
      ],
      "metadata": {
        "id": "AXP-3vpWtYUX"
      }
    },
    {
      "cell_type": "code",
      "source": [
        "class Product:\n",
        "    def __init__(self, name, price, quantity):\n",
        "        self.name = name\n",
        "        self.price = price\n",
        "        self.quantity = quantity\n",
        "\n",
        "    def total_price(self):\n",
        "        return self.price * self.quantity\n"
      ],
      "metadata": {
        "id": "yNxgSQUntdq-"
      },
      "execution_count": 37,
      "outputs": []
    },
    {
      "cell_type": "code",
      "source": [
        "product1 = Product(\"Laptop\", 50000, 2)\n",
        "product1.total_price()"
      ],
      "metadata": {
        "colab": {
          "base_uri": "https://localhost:8080/"
        },
        "id": "UV7P6yiAtnXT",
        "outputId": "d47c7e51-c0a7-4817-d308-af34bf352503"
      },
      "execution_count": 39,
      "outputs": [
        {
          "output_type": "execute_result",
          "data": {
            "text/plain": [
              "100000"
            ]
          },
          "metadata": {},
          "execution_count": 39
        }
      ]
    },
    {
      "cell_type": "markdown",
      "source": [
        "\n",
        "16. Create a class Animal with an abstract method sound(). Create two derived classes Cow and Sheep that\n",
        "implement the sound() method."
      ],
      "metadata": {
        "id": "-s7V5NT_tv2s"
      }
    },
    {
      "cell_type": "code",
      "source": [
        "from abc import ABC , abstractmethod\n",
        "\n",
        "class Animal(ABC):\n",
        "    @abstractmethod\n",
        "    def sound(self):\n",
        "        pass\n",
        "\n",
        "class Cow(Animal):\n",
        "    def sound(self):\n",
        "        print(\"Cow says: Moo\")\n",
        "\n",
        "\n",
        "class Sheep(Animal):\n",
        "    def sound(self):\n",
        "        print(\"Sheep says: Baa \")"
      ],
      "metadata": {
        "id": "bKnptKyFt0Vs"
      },
      "execution_count": 51,
      "outputs": []
    },
    {
      "cell_type": "code",
      "source": [
        "cow = Cow()\n",
        "sheep = Sheep()\n",
        "\n",
        "cow.sound()\n",
        "sheep.sound()"
      ],
      "metadata": {
        "colab": {
          "base_uri": "https://localhost:8080/"
        },
        "id": "UNCr0efouF-1",
        "outputId": "44e5c782-7491-441c-e9c2-6814ef5dd217"
      },
      "execution_count": 52,
      "outputs": [
        {
          "output_type": "stream",
          "name": "stdout",
          "text": [
            "Cow says: Moo\n",
            "Sheep says: Baa \n"
          ]
        }
      ]
    },
    {
      "cell_type": "markdown",
      "source": [
        "\n",
        "17. Create a class Book with attributes title, author, and year_published. Add a method get_book_info() that\n",
        "returns a formatted string with the book's details."
      ],
      "metadata": {
        "id": "8-DAYqNouJ6X"
      }
    },
    {
      "cell_type": "code",
      "source": [
        "class Book:\n",
        "    def __init__(self, title, author, year_published):\n",
        "        self.title = title\n",
        "        self.author = author\n",
        "        self.year_published = year_published\n",
        "\n",
        "\n",
        "    def get_book_info(self):\n",
        "        return f\"Title: {self.title}, Author: {self.author}, Year Published: {self.year_published}\""
      ],
      "metadata": {
        "id": "Edp0-RJkuIz-"
      },
      "execution_count": 53,
      "outputs": []
    },
    {
      "cell_type": "code",
      "source": [
        "book1 = Book(\"1984\", \"George Orwell\", 1949)\n",
        "\n",
        "print(book1.get_book_info())"
      ],
      "metadata": {
        "colab": {
          "base_uri": "https://localhost:8080/"
        },
        "id": "Gw4DVWgpvcjD",
        "outputId": "d8c78547-a403-4b8c-817f-59b91077f9c1"
      },
      "execution_count": 54,
      "outputs": [
        {
          "output_type": "stream",
          "name": "stdout",
          "text": [
            "Title: 1984, Author: George Orwell, Year Published: 1949\n"
          ]
        }
      ]
    },
    {
      "cell_type": "markdown",
      "source": [
        "\n",
        "18. Create a class House with attributes address and price. Create a derived class Mansion that adds an\n",
        "attribute number_of_rooms"
      ],
      "metadata": {
        "id": "OitrmteFvmY3"
      }
    },
    {
      "cell_type": "code",
      "source": [
        "class House:\n",
        "    def __init__(self, address, price):\n",
        "        self.address = address\n",
        "        self.price = price\n",
        "\n",
        "    def display_info(self):\n",
        "        print(f\"Address: {self.address}, Price: ₹{self.price}\")\n",
        "\n",
        "\n",
        "\n",
        "class Mansion(House):\n",
        "    def __init__(self, address, price, number_of_rooms):\n",
        "        super().__init__(address, price)\n",
        "        self.number_of_rooms = number_of_rooms\n",
        "\n",
        "    def display_info(self):\n",
        "        super().display_info()\n",
        "        print(f\"Number of rooms: {self.number_of_rooms}\")"
      ],
      "metadata": {
        "id": "6a5e6WdkvrOy"
      },
      "execution_count": 55,
      "outputs": []
    },
    {
      "cell_type": "code",
      "source": [
        "house1 = House(\"123 Main St\", 5000000)\n",
        "mansion1 = Mansion(\"456 Elite Ave\", 20000000, 10)\n"
      ],
      "metadata": {
        "id": "mUT0LrZtv-SQ"
      },
      "execution_count": 57,
      "outputs": []
    },
    {
      "cell_type": "code",
      "source": [
        "house1.display_info()\n",
        "mansion1.display_info()"
      ],
      "metadata": {
        "colab": {
          "base_uri": "https://localhost:8080/"
        },
        "id": "InxSrq7Bv-6A",
        "outputId": "b4dc5419-16ea-4e47-b378-5a996a1bb97d"
      },
      "execution_count": 58,
      "outputs": [
        {
          "output_type": "stream",
          "name": "stdout",
          "text": [
            "Address: 123 Main St, Price: ₹5000000\n",
            "Address: 456 Elite Ave, Price: ₹20000000\n",
            "Number of rooms: 10\n"
          ]
        }
      ]
    }
  ]
}