{
  "nbformat": 4,
  "nbformat_minor": 0,
  "metadata": {
    "colab": {
      "provenance": []
    },
    "kernelspec": {
      "name": "python3",
      "display_name": "Python 3"
    },
    "language_info": {
      "name": "python"
    }
  },
  "cells": [
    {
      "cell_type": "markdown",
      "source": [
        "# **THEORY QUESTIONS **"
      ],
      "metadata": {
        "id": "qPQzTvGcSboC"
      }
    },
    {
      "cell_type": "markdown",
      "source": [
        "1)What are data structures, and why are they important?\n",
        "\n",
        ">> Data structures are organized ways of storing and managing data so that it can be used efficiently. They are important because they help in optimizing the performance of programs, making it easier to access, modify, and process data according to specific requirements.\n",
        "\n",
        "2. Explain the difference between mutable and immutable data types with examples.\n",
        "\n",
        ">> Mutable data types can be changed after they are created. For example, lists,sets,dictionary,etc in Python allow you to add, remove, or update elements.\n",
        "\n",
        ">> Immutable data types cannot be changed once they are created. For example, strings and tuples in Python remain fixed; if you try to change them, a new object is created instead.\n",
        "\n",
        "3. What are the main differences between lists and tuples in Python?\n",
        "\n",
        ">> Lists are mutable, meaning their elements can be changed, added, or removed.\n",
        "\n",
        ">> Tuples are immutable, meaning their elements cannot be altered after creation.\n",
        "\n",
        "Because of immutability, tuples are generally faster and are often used to represent fixed collections of data.\n",
        "\n",
        "4. Describe how dictionaries store data.\n",
        "\n",
        ">> Dictionaries in Python store data in the form of key–value pairs. Each value is accessed using its unique key instead of an index. Internally, dictionaries use a hash table to store these pairs, which allows for fast data retrieval.\n",
        "\n",
        "5. Why might you use a set instead of a list in Python?\n",
        "\n",
        ">> A set is useful when you need to store unique values only and do not care about maintaining order. Unlike lists, sets automatically remove duplicate entries, which makes them efficient for tasks like membership testing or eliminating repeated values.\n",
        "\n",
        "6. What is a string in Python, and how is it different from a list?\n",
        "\n",
        ">> A string is a sequence of characters enclosed in quotes. Unlike lists, which can hold different types of elements and can be modified, strings are immutable—they cannot be changed once created.\n",
        "\n",
        "7. How do tuples ensure data integrity in Python?\n",
        "\n",
        ">> Since tuples are immutable, their values cannot be altered after creation. This immutability ensures that the data remains consistent and protected from accidental changes, making tuples suitable for storing fixed or constant information.\n",
        "\n",
        "8. What is a hash table, and how does it relate to dictionaries in Python?\n",
        "\n",
        ">> A hash table is a data structure that maps keys to values using a hash function. In Python, dictionaries are built on top of hash tables, which is why they can retrieve, insert, or delete elements in constant average time.\n",
        "\n",
        "9. Can lists contain different data types in Python?\n",
        "\n",
        ">> Yes, lists in Python can hold elements of different data types, such as integers, strings, floats, or even other lists, all within the same list.\n",
        "\n",
        "10. Explain why strings are immutable in Python.\n",
        "\n",
        ">> Strings are immutable because once they are created, their memory location cannot be modified. This design choice makes strings more secure and efficient, especially when used as keys in dictionaries or in multi-threaded operations.\n",
        "\n",
        "11. What advantages do dictionaries offer over lists for certain tasks?\n",
        "\n",
        ">> Dictionaries allow data retrieval through keys instead of indexes, making them faster when searching for specific values. They are especially useful when dealing with labeled or structured data, such as storing student records with roll numbers as keys.\n",
        "\n",
        "12. Describe a scenario where using a tuple would be preferable over a list.\n",
        "\n",
        ">> If you are storing fixed data, such as the coordinates of a point (x, y) or days of the week, a tuple is preferable because it guarantees that the data cannot be changed accidentally.\n",
        "\n",
        "13. How do sets handle duplicate values in Python?\n",
        "\n",
        ">> Sets automatically eliminate duplicate values. For example, if you try to add the same element multiple times, it will only appear once in the set.\n",
        "\n",
        "14. How does the “in” keyword work differently for lists and dictionaries?\n",
        "\n",
        ">> For lists, the in keyword checks whether a specific element exists in the list.\n",
        "\n",
        "For dictionaries, the in keyword checks whether a given key is present, not the value.\n",
        "\n",
        "15. Can you modify the elements of a tuple? Explain why or why not.\n",
        "\n",
        ">> No, you cannot modify the elements of a tuple because tuples are immutable. Once a tuple is created, its elements cannot be changed, added, or removed.\n",
        "\n",
        "16. What is a nested dictionary, and give an example of its use case.\n",
        "\n",
        ">> A nested dictionary is a dictionary inside another dictionary. It is often used to represent hierarchical data.\n",
        "Example:\n",
        "\n",
        "students = { \"101\": {\"name\": \"Amit\", \"age\": 20},\n",
        "    \"102\": {\"name\": \"Riya\", \"age\": 22}}\n",
        "\n",
        "\n",
        "Here, each student ID maps to another dictionary containing details of the student.\n",
        "\n",
        "17. Describe the time complexity of accessing elements in a dictionary.\n",
        "\n",
        ">> Accessing an element in a dictionary has an average-case time complexity of O(1), meaning it is very fast regardless of the dictionary size, thanks to the underlying hash table implementation.\n",
        "\n",
        "18. In what situations are lists preferred over dictionaries?\n",
        "\n",
        ">> Lists are preferred when the order of elements matters or when you only need to store data without requiring unique keys. For example, storing a sequence of daily temperatures is more suitable for a list than a dictionary.\n",
        "\n",
        "19. Why are dictionaries considered unordered, and how does that affect data retrieval?\n",
        "\n",
        ">> Dictionaries are considered unordered because they do not store elements in a fixed sequence; instead, they are arranged based on their hash values. As a result, you cannot rely on the position of elements, but you can always access values directly through their keys.\n",
        "\n",
        "20. Explain the difference between a list and a dictionary in terms of data retrieval.\n",
        "\n",
        ">> In a list, data is retrieved using numeric indexes that represent the position of elements.\n",
        "\n",
        "In a dictionary, data is retrieved using unique keys, making access faster and more meaningful when working with labeled data."
      ],
      "metadata": {
        "id": "BCEleGuISggi"
      }
    },
    {
      "cell_type": "markdown",
      "source": [
        "# **PRACTICAL QUESTIONS**"
      ],
      "metadata": {
        "id": "sgqTGdNYUKQn"
      }
    },
    {
      "cell_type": "markdown",
      "source": [
        "1.Write a code to create a string with your name and print it"
      ],
      "metadata": {
        "id": "QzR-h3xAUQL_"
      }
    },
    {
      "cell_type": "code",
      "source": [
        "A=\"MAHI\"\n"
      ],
      "metadata": {
        "id": "QL1lZAM7UZSC"
      },
      "execution_count": null,
      "outputs": []
    },
    {
      "cell_type": "code",
      "source": [
        "print(A)"
      ],
      "metadata": {
        "colab": {
          "base_uri": "https://localhost:8080/"
        },
        "id": "1VbtdPi9UnwB",
        "outputId": "9096f5b0-5fd7-43c6-e5a9-d6c19cb69f18"
      },
      "execution_count": null,
      "outputs": [
        {
          "output_type": "stream",
          "name": "stdout",
          "text": [
            "MAHI\n"
          ]
        }
      ]
    },
    {
      "cell_type": "markdown",
      "source": [
        "2. Write a code to find the length of the string \"Hello World\""
      ],
      "metadata": {
        "id": "Vw7Mz1FVUyGh"
      }
    },
    {
      "cell_type": "code",
      "source": [
        "x=\"hello world\""
      ],
      "metadata": {
        "id": "b5EoiQtSU1dQ"
      },
      "execution_count": null,
      "outputs": []
    },
    {
      "cell_type": "code",
      "source": [
        "len(x)"
      ],
      "metadata": {
        "colab": {
          "base_uri": "https://localhost:8080/"
        },
        "id": "505Cm7qIU7UT",
        "outputId": "f0d91678-c9ce-4701-fe11-3fd23f67552e"
      },
      "execution_count": null,
      "outputs": [
        {
          "output_type": "execute_result",
          "data": {
            "text/plain": [
              "11"
            ]
          },
          "metadata": {},
          "execution_count": 7
        }
      ]
    },
    {
      "cell_type": "markdown",
      "source": [
        " 3.Write a code to slice the first 3 characters from the string \"Python Programming\""
      ],
      "metadata": {
        "id": "I5EmrdccU9cP"
      }
    },
    {
      "cell_type": "code",
      "source": [
        "b=\"Phyton Programming\""
      ],
      "metadata": {
        "id": "uYDk0vd9VBGP"
      },
      "execution_count": null,
      "outputs": []
    },
    {
      "cell_type": "code",
      "source": [
        "b[0:3]"
      ],
      "metadata": {
        "colab": {
          "base_uri": "https://localhost:8080/",
          "height": 36
        },
        "id": "LVKHDMvYVI7r",
        "outputId": "de9eb09e-2f54-4fc0-e9ed-b7e32c72b9ff"
      },
      "execution_count": null,
      "outputs": [
        {
          "output_type": "execute_result",
          "data": {
            "text/plain": [
              "'Phy'"
            ],
            "application/vnd.google.colaboratory.intrinsic+json": {
              "type": "string"
            }
          },
          "metadata": {},
          "execution_count": 11
        }
      ]
    },
    {
      "cell_type": "markdown",
      "source": [
        "4. Write a code to convert the string \"hello\" to uppercase"
      ],
      "metadata": {
        "id": "GohiEsUdVUaf"
      }
    },
    {
      "cell_type": "code",
      "source": [
        "m=\"hello\""
      ],
      "metadata": {
        "id": "8M7yVMLgVYfJ"
      },
      "execution_count": null,
      "outputs": []
    },
    {
      "cell_type": "code",
      "source": [
        "m.upper()"
      ],
      "metadata": {
        "colab": {
          "base_uri": "https://localhost:8080/",
          "height": 36
        },
        "id": "EK7jRU84Vcb0",
        "outputId": "902a0c44-67c6-4709-84ff-44d8bf61bba3"
      },
      "execution_count": null,
      "outputs": [
        {
          "output_type": "execute_result",
          "data": {
            "text/plain": [
              "'HELLO'"
            ],
            "application/vnd.google.colaboratory.intrinsic+json": {
              "type": "string"
            }
          },
          "metadata": {},
          "execution_count": 13
        }
      ]
    },
    {
      "cell_type": "markdown",
      "source": [
        "5. Write a code to replace the word \"apple\" with \"orange\" in the string \"I like apple\""
      ],
      "metadata": {
        "id": "eQa_i5ZlVfdg"
      }
    },
    {
      "cell_type": "code",
      "source": [
        "x=\"i like apple\""
      ],
      "metadata": {
        "id": "1RaE-flqVkJI"
      },
      "execution_count": null,
      "outputs": []
    },
    {
      "cell_type": "code",
      "source": [
        "x[\"apple\"]=\"orange\""
      ],
      "metadata": {
        "colab": {
          "base_uri": "https://localhost:8080/",
          "height": 141
        },
        "id": "_SWCRRwGVr4M",
        "outputId": "a52d56fb-4bba-47fa-a18a-efd6abdfd076"
      },
      "execution_count": null,
      "outputs": [
        {
          "output_type": "error",
          "ename": "TypeError",
          "evalue": "'str' object does not support item assignment",
          "traceback": [
            "\u001b[0;31m---------------------------------------------------------------------------\u001b[0m",
            "\u001b[0;31mTypeError\u001b[0m                                 Traceback (most recent call last)",
            "\u001b[0;32m/tmp/ipython-input-4067719952.py\u001b[0m in \u001b[0;36m<cell line: 0>\u001b[0;34m()\u001b[0m\n\u001b[0;32m----> 1\u001b[0;31m \u001b[0mx\u001b[0m\u001b[0;34m[\u001b[0m\u001b[0;34m\"apple\"\u001b[0m\u001b[0;34m]\u001b[0m\u001b[0;34m=\u001b[0m\u001b[0;34m\"orange\"\u001b[0m\u001b[0;34m\u001b[0m\u001b[0;34m\u001b[0m\u001b[0m\n\u001b[0m",
            "\u001b[0;31mTypeError\u001b[0m: 'str' object does not support item assignment"
          ]
        }
      ]
    },
    {
      "cell_type": "markdown",
      "source": [
        "6.Write a code to create a list with numbers 1 to 5 and print it"
      ],
      "metadata": {
        "id": "pBKLvcX2WG7I"
      }
    },
    {
      "cell_type": "code",
      "source": [
        "numbers = [1, 2, 3, 4, 5]"
      ],
      "metadata": {
        "id": "NtnHJejoWI5D"
      },
      "execution_count": null,
      "outputs": []
    },
    {
      "cell_type": "code",
      "source": [
        "print(numbers)"
      ],
      "metadata": {
        "colab": {
          "base_uri": "https://localhost:8080/"
        },
        "id": "ZZtpNccrWbS3",
        "outputId": "6462451c-07e7-4025-fae7-5adfa6a5209b"
      },
      "execution_count": null,
      "outputs": [
        {
          "output_type": "stream",
          "name": "stdout",
          "text": [
            "[1, 2, 3, 4, 5]\n"
          ]
        }
      ]
    },
    {
      "cell_type": "markdown",
      "source": [
        "7.Write a code to append the number 10 to the list [1, 2, 3, 4]"
      ],
      "metadata": {
        "id": "45VOHmZuWeLq"
      }
    },
    {
      "cell_type": "code",
      "source": [
        "num=[1,2,3,4]"
      ],
      "metadata": {
        "id": "sbZTjpTYWp4c"
      },
      "execution_count": null,
      "outputs": []
    },
    {
      "cell_type": "code",
      "source": [
        "num.append(10)"
      ],
      "metadata": {
        "id": "bLpghU4nWkSH"
      },
      "execution_count": null,
      "outputs": []
    },
    {
      "cell_type": "code",
      "source": [
        "num"
      ],
      "metadata": {
        "colab": {
          "base_uri": "https://localhost:8080/"
        },
        "id": "bmkgeCTkW15A",
        "outputId": "bc8e9295-d6bf-4634-ac42-8a7369f0334c"
      },
      "execution_count": null,
      "outputs": [
        {
          "output_type": "execute_result",
          "data": {
            "text/plain": [
              "[1, 2, 3, 4, 10]"
            ]
          },
          "metadata": {},
          "execution_count": 29
        }
      ]
    },
    {
      "cell_type": "markdown",
      "source": [
        "8.Write a code to remove the number 3 from the list [1, 2, 3, 4, 5]"
      ],
      "metadata": {
        "id": "Nr27DWMKXInO"
      }
    },
    {
      "cell_type": "code",
      "source": [
        "my_list=[1, 2, 3, 4, 5]"
      ],
      "metadata": {
        "id": "BJUHTMFXXRc4"
      },
      "execution_count": null,
      "outputs": []
    },
    {
      "cell_type": "code",
      "source": [
        "my_list.remove(3)"
      ],
      "metadata": {
        "id": "laIgGeicXaUj"
      },
      "execution_count": null,
      "outputs": []
    },
    {
      "cell_type": "code",
      "source": [
        "my_list"
      ],
      "metadata": {
        "colab": {
          "base_uri": "https://localhost:8080/"
        },
        "id": "kO1toQ0jXgN7",
        "outputId": "4df7b832-fae0-4bcb-e8ef-de45a2e69933"
      },
      "execution_count": null,
      "outputs": [
        {
          "output_type": "execute_result",
          "data": {
            "text/plain": [
              "[1, 2, 4, 5]"
            ]
          },
          "metadata": {},
          "execution_count": 33
        }
      ]
    },
    {
      "cell_type": "markdown",
      "source": [
        "9.Write a code to access the second element in the list ['a', 'b', 'c', 'd']"
      ],
      "metadata": {
        "id": "lMNkdRdFXjzc"
      }
    },
    {
      "cell_type": "code",
      "source": [
        "a=['a', 'b', 'c', 'd']"
      ],
      "metadata": {
        "id": "2ijYC5DeXr8g"
      },
      "execution_count": null,
      "outputs": []
    },
    {
      "cell_type": "code",
      "source": [
        "a[1]"
      ],
      "metadata": {
        "colab": {
          "base_uri": "https://localhost:8080/",
          "height": 36
        },
        "id": "0X-97nzXXypY",
        "outputId": "84616855-d75c-458f-903a-a869d89be706"
      },
      "execution_count": null,
      "outputs": [
        {
          "output_type": "execute_result",
          "data": {
            "text/plain": [
              "'b'"
            ],
            "application/vnd.google.colaboratory.intrinsic+json": {
              "type": "string"
            }
          },
          "metadata": {},
          "execution_count": 35
        }
      ]
    },
    {
      "cell_type": "markdown",
      "source": [
        "10.Write a code to reverse the list [10, 20, 30, 40, 50]"
      ],
      "metadata": {
        "id": "XyMC-cowX7eS"
      }
    },
    {
      "cell_type": "code",
      "source": [
        "x=[10, 20, 30, 40, 50]"
      ],
      "metadata": {
        "id": "izvcRM9BX9k5"
      },
      "execution_count": null,
      "outputs": []
    },
    {
      "cell_type": "code",
      "source": [
        "x[::-1]"
      ],
      "metadata": {
        "colab": {
          "base_uri": "https://localhost:8080/"
        },
        "id": "qLD16VsZYB-s",
        "outputId": "dade92a1-5608-4f93-d5e6-412d0ad31e13"
      },
      "execution_count": null,
      "outputs": [
        {
          "output_type": "execute_result",
          "data": {
            "text/plain": [
              "[50, 40, 30, 20, 10]"
            ]
          },
          "metadata": {},
          "execution_count": 38
        }
      ]
    },
    {
      "cell_type": "markdown",
      "source": [
        "11.Write a code to create a tuple with the elements 100, 200, 300 and print it."
      ],
      "metadata": {
        "id": "sm1sD7bpYYKg"
      }
    },
    {
      "cell_type": "code",
      "source": [
        "a=( 100, 200, 300)"
      ],
      "metadata": {
        "id": "LnF4QVxlYdvG"
      },
      "execution_count": null,
      "outputs": []
    },
    {
      "cell_type": "code",
      "source": [
        "a"
      ],
      "metadata": {
        "colab": {
          "base_uri": "https://localhost:8080/"
        },
        "id": "ziW1xa_XYhpr",
        "outputId": "c31162fa-253f-4764-9453-f61e9a3ed555"
      },
      "execution_count": null,
      "outputs": [
        {
          "output_type": "execute_result",
          "data": {
            "text/plain": [
              "(100, 200, 300)"
            ]
          },
          "metadata": {},
          "execution_count": 40
        }
      ]
    },
    {
      "cell_type": "code",
      "source": [
        "type(a)"
      ],
      "metadata": {
        "colab": {
          "base_uri": "https://localhost:8080/"
        },
        "id": "oPuDraC4Yi0s",
        "outputId": "2258b667-6b0b-42f1-8e68-16a2ac50a367"
      },
      "execution_count": null,
      "outputs": [
        {
          "output_type": "execute_result",
          "data": {
            "text/plain": [
              "tuple"
            ]
          },
          "metadata": {},
          "execution_count": 41
        }
      ]
    },
    {
      "cell_type": "markdown",
      "source": [
        "12. Write a code to access the second-to-last element of the tuple ('red', 'green', 'blue', 'yellow')."
      ],
      "metadata": {
        "id": "bFd_uTw4YlSD"
      }
    },
    {
      "cell_type": "code",
      "source": [
        "d=('red', 'green', 'blue', 'yellow')"
      ],
      "metadata": {
        "id": "2YHo_z6tYpTp"
      },
      "execution_count": null,
      "outputs": []
    },
    {
      "cell_type": "code",
      "source": [
        "d"
      ],
      "metadata": {
        "colab": {
          "base_uri": "https://localhost:8080/"
        },
        "id": "aSTpIBSeYvql",
        "outputId": "a0375997-3f6c-4ef0-e8b1-39d45ee37393"
      },
      "execution_count": null,
      "outputs": [
        {
          "output_type": "execute_result",
          "data": {
            "text/plain": [
              "('red', 'green', 'blue', 'yellow')"
            ]
          },
          "metadata": {},
          "execution_count": 43
        }
      ]
    },
    {
      "cell_type": "code",
      "source": [
        "d[1:4]"
      ],
      "metadata": {
        "colab": {
          "base_uri": "https://localhost:8080/"
        },
        "id": "rfZ8f1UOYxvd",
        "outputId": "de7a23ab-0b3e-4ca9-de8e-f1f2e64fee87"
      },
      "execution_count": null,
      "outputs": [
        {
          "output_type": "execute_result",
          "data": {
            "text/plain": [
              "('green', 'blue', 'yellow')"
            ]
          },
          "metadata": {},
          "execution_count": 44
        }
      ]
    },
    {
      "cell_type": "markdown",
      "source": [
        "13. Write a code to find the minimum number in the tuple (10, 20, 5, 15)."
      ],
      "metadata": {
        "id": "4IxIlHAEY24i"
      }
    },
    {
      "cell_type": "code",
      "source": [
        "b=(10, 20, 5, 15)"
      ],
      "metadata": {
        "id": "veJJ794qY8yq"
      },
      "execution_count": null,
      "outputs": []
    },
    {
      "cell_type": "code",
      "source": [
        "b"
      ],
      "metadata": {
        "colab": {
          "base_uri": "https://localhost:8080/"
        },
        "id": "VDoqsMWbZBBK",
        "outputId": "897529dc-748d-4ef8-8a50-1ef1b7e2bedc"
      },
      "execution_count": null,
      "outputs": [
        {
          "output_type": "execute_result",
          "data": {
            "text/plain": [
              "(10, 20, 5, 15)"
            ]
          },
          "metadata": {},
          "execution_count": 46
        }
      ]
    },
    {
      "cell_type": "code",
      "source": [
        "min(b)"
      ],
      "metadata": {
        "colab": {
          "base_uri": "https://localhost:8080/"
        },
        "id": "UU5jECQ1ZCgT",
        "outputId": "6d518295-ed0a-4b4c-d6ac-fa057003bf72"
      },
      "execution_count": null,
      "outputs": [
        {
          "output_type": "execute_result",
          "data": {
            "text/plain": [
              "5"
            ]
          },
          "metadata": {},
          "execution_count": 47
        }
      ]
    },
    {
      "cell_type": "markdown",
      "source": [
        "14. Write a code to find the index of the element \"cat\" in the tuple ('dog', 'cat', 'rabbit')."
      ],
      "metadata": {
        "id": "3HWKqFQhZI5g"
      }
    },
    {
      "cell_type": "code",
      "source": [
        "animals=('dog', 'cat', 'rabbit')"
      ],
      "metadata": {
        "id": "QFNvdAqtZJ0J"
      },
      "execution_count": null,
      "outputs": []
    },
    {
      "cell_type": "code",
      "source": [
        "animals"
      ],
      "metadata": {
        "colab": {
          "base_uri": "https://localhost:8080/"
        },
        "id": "mgpp-SV2ZQ5-",
        "outputId": "e61a55e9-875a-4016-e557-529d4b918e49"
      },
      "execution_count": null,
      "outputs": [
        {
          "output_type": "execute_result",
          "data": {
            "text/plain": [
              "('dog', 'cat', 'rabbit')"
            ]
          },
          "metadata": {},
          "execution_count": 49
        }
      ]
    },
    {
      "cell_type": "code",
      "source": [
        "animals.index(\"cat\")"
      ],
      "metadata": {
        "colab": {
          "base_uri": "https://localhost:8080/"
        },
        "id": "abyqEsujZSSM",
        "outputId": "d30304e3-0e77-4833-f52a-1e98b9a87a11"
      },
      "execution_count": null,
      "outputs": [
        {
          "output_type": "execute_result",
          "data": {
            "text/plain": [
              "1"
            ]
          },
          "metadata": {},
          "execution_count": 52
        }
      ]
    },
    {
      "cell_type": "markdown",
      "source": [
        "15.Write a code to create a tuple containing three different fruits and check if \"kiwi\" is in it."
      ],
      "metadata": {
        "id": "lWGgz30gZief"
      }
    },
    {
      "cell_type": "code",
      "source": [
        "fruits=(\"mango\",\"litchi\",\"kiwi\")"
      ],
      "metadata": {
        "id": "BtB8oJg6ZuT0"
      },
      "execution_count": null,
      "outputs": []
    },
    {
      "cell_type": "code",
      "source": [
        "fruits"
      ],
      "metadata": {
        "colab": {
          "base_uri": "https://localhost:8080/"
        },
        "id": "RIonzrA9Z2Qc",
        "outputId": "e2294bcc-fde1-4d15-ef70-8f9e0ab2c3d2"
      },
      "execution_count": null,
      "outputs": [
        {
          "output_type": "execute_result",
          "data": {
            "text/plain": [
              "('mango', 'litchi', 'kiwi')"
            ]
          },
          "metadata": {},
          "execution_count": 54
        }
      ]
    },
    {
      "cell_type": "code",
      "source": [
        "\"kiwi\" in fruits"
      ],
      "metadata": {
        "colab": {
          "base_uri": "https://localhost:8080/"
        },
        "id": "Si4JkR_BZ5v7",
        "outputId": "a43ac8df-4750-4dd8-c9f8-ba03fba0ffa5"
      },
      "execution_count": null,
      "outputs": [
        {
          "output_type": "execute_result",
          "data": {
            "text/plain": [
              "True"
            ]
          },
          "metadata": {},
          "execution_count": 55
        }
      ]
    },
    {
      "cell_type": "markdown",
      "source": [
        "16. Write a code to create a set with the elements 'a', 'b', 'c' and print it\n"
      ],
      "metadata": {
        "id": "RTNKOUPwaA_A"
      }
    },
    {
      "cell_type": "code",
      "source": [
        "s={'a', 'b', 'c' }"
      ],
      "metadata": {
        "id": "vAKz7yK7aALr"
      },
      "execution_count": null,
      "outputs": []
    },
    {
      "cell_type": "code",
      "source": [
        "s"
      ],
      "metadata": {
        "colab": {
          "base_uri": "https://localhost:8080/"
        },
        "id": "YiUfDMfyaNDU",
        "outputId": "4ee6f045-1b38-41ef-ec9a-5b59489c6e51"
      },
      "execution_count": null,
      "outputs": [
        {
          "output_type": "execute_result",
          "data": {
            "text/plain": [
              "{'a', 'b', 'c'}"
            ]
          },
          "metadata": {},
          "execution_count": 57
        }
      ]
    },
    {
      "cell_type": "code",
      "source": [
        "type(s)"
      ],
      "metadata": {
        "colab": {
          "base_uri": "https://localhost:8080/"
        },
        "id": "E2WD5O4aaOSR",
        "outputId": "9d83b2e1-6ae7-469f-82f7-b1ac1ddc070d"
      },
      "execution_count": null,
      "outputs": [
        {
          "output_type": "execute_result",
          "data": {
            "text/plain": [
              "set"
            ]
          },
          "metadata": {},
          "execution_count": 59
        }
      ]
    },
    {
      "cell_type": "markdown",
      "source": [
        "17.write a code to clear all elements from the set {1, 2, 3, 4, 5}"
      ],
      "metadata": {
        "id": "tJREjVxraR_3"
      }
    },
    {
      "cell_type": "code",
      "source": [
        "d={1, 2, 3, 4, 5}"
      ],
      "metadata": {
        "id": "22RWXHtQaYIm"
      },
      "execution_count": null,
      "outputs": []
    },
    {
      "cell_type": "code",
      "source": [
        "d.clear()"
      ],
      "metadata": {
        "id": "r8vPJAgXacxT"
      },
      "execution_count": null,
      "outputs": []
    },
    {
      "cell_type": "code",
      "source": [
        "d"
      ],
      "metadata": {
        "colab": {
          "base_uri": "https://localhost:8080/"
        },
        "id": "NNDDgL4xafoB",
        "outputId": "0f4b8007-8dfe-4784-d6d0-9f2684c3ab22"
      },
      "execution_count": null,
      "outputs": [
        {
          "output_type": "execute_result",
          "data": {
            "text/plain": [
              "set()"
            ]
          },
          "metadata": {},
          "execution_count": 62
        }
      ]
    },
    {
      "cell_type": "markdown",
      "source": [
        "18.Write a code to remove the element 4 from the set {1, 2, 3, 4}"
      ],
      "metadata": {
        "id": "DdDZgTVsah4z"
      }
    },
    {
      "cell_type": "code",
      "source": [
        "y={1, 2, 3, 4}"
      ],
      "metadata": {
        "id": "suMYaHQXaqw7"
      },
      "execution_count": null,
      "outputs": []
    },
    {
      "cell_type": "code",
      "source": [
        "y"
      ],
      "metadata": {
        "colab": {
          "base_uri": "https://localhost:8080/"
        },
        "id": "2EfSC8UFa26x",
        "outputId": "1efd9fe8-9848-49fb-a4d8-ef3db61eaa03"
      },
      "execution_count": null,
      "outputs": [
        {
          "output_type": "execute_result",
          "data": {
            "text/plain": [
              "{1, 2, 3, 4}"
            ]
          },
          "metadata": {},
          "execution_count": 66
        }
      ]
    },
    {
      "cell_type": "code",
      "source": [
        "y.remove(4)"
      ],
      "metadata": {
        "id": "oW96nnKbaspH"
      },
      "execution_count": null,
      "outputs": []
    },
    {
      "cell_type": "code",
      "source": [
        "y"
      ],
      "metadata": {
        "colab": {
          "base_uri": "https://localhost:8080/"
        },
        "id": "fNqOw38ya5KI",
        "outputId": "a88685f9-3393-4020-c18b-aa82a1cdbff7"
      },
      "execution_count": null,
      "outputs": [
        {
          "output_type": "execute_result",
          "data": {
            "text/plain": [
              "{1, 2, 3}"
            ]
          },
          "metadata": {},
          "execution_count": 68
        }
      ]
    },
    {
      "cell_type": "markdown",
      "source": [
        " 19.Write a code to find the union of two sets {1, 2, 3} and {3, 4, 5}."
      ],
      "metadata": {
        "id": "cByfr_Kda60H"
      }
    },
    {
      "cell_type": "code",
      "source": [
        "x={1, 2, 3}"
      ],
      "metadata": {
        "id": "4gCjtoorbDgR"
      },
      "execution_count": null,
      "outputs": []
    },
    {
      "cell_type": "code",
      "source": [
        "y={3, 4, 5}"
      ],
      "metadata": {
        "id": "vyzDZdilbHRb"
      },
      "execution_count": null,
      "outputs": []
    },
    {
      "cell_type": "code",
      "source": [
        "x"
      ],
      "metadata": {
        "colab": {
          "base_uri": "https://localhost:8080/"
        },
        "id": "J_qF3H-UbKlz",
        "outputId": "32427734-3739-4acf-8d16-b0d8b417da0e"
      },
      "execution_count": null,
      "outputs": [
        {
          "output_type": "execute_result",
          "data": {
            "text/plain": [
              "{1, 2, 3}"
            ]
          },
          "metadata": {},
          "execution_count": 71
        }
      ]
    },
    {
      "cell_type": "code",
      "source": [
        "y"
      ],
      "metadata": {
        "colab": {
          "base_uri": "https://localhost:8080/"
        },
        "id": "eF7619YsbLnv",
        "outputId": "60fe1cdb-51b8-4a97-a341-cb897d1dae83"
      },
      "execution_count": null,
      "outputs": [
        {
          "output_type": "execute_result",
          "data": {
            "text/plain": [
              "{3, 4, 5}"
            ]
          },
          "metadata": {},
          "execution_count": 72
        }
      ]
    },
    {
      "cell_type": "code",
      "source": [
        "x|y"
      ],
      "metadata": {
        "colab": {
          "base_uri": "https://localhost:8080/"
        },
        "id": "CRpOJZfqbM46",
        "outputId": "7023b3a6-8654-4bae-c90c-d1b97ffcb1d6"
      },
      "execution_count": null,
      "outputs": [
        {
          "output_type": "execute_result",
          "data": {
            "text/plain": [
              "{1, 2, 3, 4, 5}"
            ]
          },
          "metadata": {},
          "execution_count": 73
        }
      ]
    },
    {
      "cell_type": "markdown",
      "source": [
        "20. Write a code to find the intersection of two sets {1, 2, 3} and {2, 3, 4}."
      ],
      "metadata": {
        "id": "nY60HK1kbPRm"
      }
    },
    {
      "cell_type": "code",
      "source": [
        "a={1, 2, 3}"
      ],
      "metadata": {
        "id": "VLxfmbgpbUMd"
      },
      "execution_count": null,
      "outputs": []
    },
    {
      "cell_type": "code",
      "source": [
        "a"
      ],
      "metadata": {
        "colab": {
          "base_uri": "https://localhost:8080/"
        },
        "id": "enN-Y8HmbdB_",
        "outputId": "9fdd62d0-d525-45c7-e3ea-976a19d51bbb"
      },
      "execution_count": null,
      "outputs": [
        {
          "output_type": "execute_result",
          "data": {
            "text/plain": [
              "{1, 2, 3}"
            ]
          },
          "metadata": {},
          "execution_count": 75
        }
      ]
    },
    {
      "cell_type": "code",
      "source": [
        "b={2, 3, 4}"
      ],
      "metadata": {
        "id": "O8llFttGbeg0"
      },
      "execution_count": null,
      "outputs": []
    },
    {
      "cell_type": "code",
      "source": [
        "b"
      ],
      "metadata": {
        "colab": {
          "base_uri": "https://localhost:8080/"
        },
        "id": "LFWwDtHAbiHI",
        "outputId": "d3d3f1e6-ae18-4c73-f724-5e9e352d24a0"
      },
      "execution_count": null,
      "outputs": [
        {
          "output_type": "execute_result",
          "data": {
            "text/plain": [
              "{2, 3, 4}"
            ]
          },
          "metadata": {},
          "execution_count": 77
        }
      ]
    },
    {
      "cell_type": "code",
      "source": [
        "a&b"
      ],
      "metadata": {
        "colab": {
          "base_uri": "https://localhost:8080/"
        },
        "id": "6zTxJT1bbjvX",
        "outputId": "e31e035a-6a0f-4a34-a71e-044563a773f0"
      },
      "execution_count": null,
      "outputs": [
        {
          "output_type": "execute_result",
          "data": {
            "text/plain": [
              "{2, 3}"
            ]
          },
          "metadata": {},
          "execution_count": 78
        }
      ]
    },
    {
      "cell_type": "markdown",
      "source": [
        "21. Write a code to create a dictionary with the keys \"name\", \"age\", and \"city\", and print it."
      ],
      "metadata": {
        "id": "yZ9uCrEebnRN"
      }
    },
    {
      "cell_type": "code",
      "source": [
        "my_dict={\"name\":\"xyz\", \"age\":\"25\",  \"city\":\"Delhi\"}"
      ],
      "metadata": {
        "id": "zJWdyDeIrzUn"
      },
      "execution_count": 1,
      "outputs": []
    },
    {
      "cell_type": "code",
      "source": [
        "my_dict"
      ],
      "metadata": {
        "colab": {
          "base_uri": "https://localhost:8080/"
        },
        "id": "rHWT-79fsDuD",
        "outputId": "d27c901b-35a9-4af5-a020-e1f18177814b"
      },
      "execution_count": 2,
      "outputs": [
        {
          "output_type": "execute_result",
          "data": {
            "text/plain": [
              "{'name': 'xyz', 'age': '25', 'city': 'Delhi'}"
            ]
          },
          "metadata": {},
          "execution_count": 2
        }
      ]
    },
    {
      "cell_type": "markdown",
      "source": [
        "22. Write a code to add a new key-value pair \"country\": \"USA\" to the dictionary {'name': 'John', 'age': 25}.\n"
      ],
      "metadata": {
        "id": "LB2TyxWosJ02"
      }
    },
    {
      "cell_type": "code",
      "source": [
        "z={'name': 'John', 'age': 25}"
      ],
      "metadata": {
        "id": "CG93qEpbsPT7"
      },
      "execution_count": 3,
      "outputs": []
    },
    {
      "cell_type": "code",
      "source": [
        "z"
      ],
      "metadata": {
        "colab": {
          "base_uri": "https://localhost:8080/"
        },
        "id": "b2nFZkL7sVCU",
        "outputId": "86f98478-33ed-4654-d3e0-9a395ce44cdf"
      },
      "execution_count": 4,
      "outputs": [
        {
          "output_type": "execute_result",
          "data": {
            "text/plain": [
              "{'name': 'John', 'age': 25}"
            ]
          },
          "metadata": {},
          "execution_count": 4
        }
      ]
    },
    {
      "cell_type": "code",
      "source": [
        "z[\"country\"]= \"USA\""
      ],
      "metadata": {
        "id": "k8m4tTbYsXWN"
      },
      "execution_count": 8,
      "outputs": []
    },
    {
      "cell_type": "code",
      "source": [
        "z"
      ],
      "metadata": {
        "colab": {
          "base_uri": "https://localhost:8080/"
        },
        "id": "oGjWDL-Usy5B",
        "outputId": "fb736a59-37a2-450a-8f1b-b459940f78b9"
      },
      "execution_count": 9,
      "outputs": [
        {
          "output_type": "execute_result",
          "data": {
            "text/plain": [
              "{'name': 'John', 'age': 25, 'country': 'USA'}"
            ]
          },
          "metadata": {},
          "execution_count": 9
        }
      ]
    },
    {
      "cell_type": "markdown",
      "source": [
        "23.Write a code to access the value associated with the key \"name\" in the dictionary {'name': 'Alice', 'age': 30}."
      ],
      "metadata": {
        "id": "8ysmvGcBs03H"
      }
    },
    {
      "cell_type": "code",
      "source": [
        "x={'name': 'Alice', 'age': 30}"
      ],
      "metadata": {
        "id": "wmGlA8witP0X"
      },
      "execution_count": 10,
      "outputs": []
    },
    {
      "cell_type": "code",
      "source": [
        "x"
      ],
      "metadata": {
        "colab": {
          "base_uri": "https://localhost:8080/"
        },
        "id": "p1w1bDnItU-P",
        "outputId": "6b8d9ad2-81d6-4163-8c01-1b97935bc8ac"
      },
      "execution_count": 11,
      "outputs": [
        {
          "output_type": "execute_result",
          "data": {
            "text/plain": [
              "{'name': 'Alice', 'age': 30}"
            ]
          },
          "metadata": {},
          "execution_count": 11
        }
      ]
    },
    {
      "cell_type": "code",
      "source": [
        "x[\"name\"]"
      ],
      "metadata": {
        "colab": {
          "base_uri": "https://localhost:8080/",
          "height": 36
        },
        "id": "MQuj0S_itX-A",
        "outputId": "d68a644e-adf9-4292-f1ba-2cf5ac0b430c"
      },
      "execution_count": 13,
      "outputs": [
        {
          "output_type": "execute_result",
          "data": {
            "text/plain": [
              "'Alice'"
            ],
            "application/vnd.google.colaboratory.intrinsic+json": {
              "type": "string"
            }
          },
          "metadata": {},
          "execution_count": 13
        }
      ]
    },
    {
      "cell_type": "markdown",
      "source": [
        "24. Write a code to remove the key \"age\" from the dictionary {'name': 'Bob', 'age': 22, 'city': 'New York'}."
      ],
      "metadata": {
        "id": "TMZWwQ_UtfO2"
      }
    },
    {
      "cell_type": "code",
      "source": [
        "a={'name': 'Bob', 'age': 22, 'city': 'New York'}"
      ],
      "metadata": {
        "id": "5bFZDmGztmB_"
      },
      "execution_count": 14,
      "outputs": []
    },
    {
      "cell_type": "code",
      "source": [
        "a"
      ],
      "metadata": {
        "colab": {
          "base_uri": "https://localhost:8080/"
        },
        "id": "RzMCC20ptpuC",
        "outputId": "44cf1297-24d3-4573-f714-6bccbb5c66ef"
      },
      "execution_count": 15,
      "outputs": [
        {
          "output_type": "execute_result",
          "data": {
            "text/plain": [
              "{'name': 'Bob', 'age': 22, 'city': 'New York'}"
            ]
          },
          "metadata": {},
          "execution_count": 15
        }
      ]
    },
    {
      "cell_type": "code",
      "source": [
        "a.pop(\"age\")"
      ],
      "metadata": {
        "colab": {
          "base_uri": "https://localhost:8080/"
        },
        "id": "JdhheHrWtrDT",
        "outputId": "cd2d6614-85b1-4d9b-8a6c-d0dd533508ad"
      },
      "execution_count": 18,
      "outputs": [
        {
          "output_type": "execute_result",
          "data": {
            "text/plain": [
              "22"
            ]
          },
          "metadata": {},
          "execution_count": 18
        }
      ]
    },
    {
      "cell_type": "code",
      "source": [
        "a"
      ],
      "metadata": {
        "colab": {
          "base_uri": "https://localhost:8080/"
        },
        "id": "EwccurIWt42j",
        "outputId": "1d7db647-1623-45b6-9771-165b500e18e5"
      },
      "execution_count": 19,
      "outputs": [
        {
          "output_type": "execute_result",
          "data": {
            "text/plain": [
              "{'name': 'Bob', 'city': 'New York'}"
            ]
          },
          "metadata": {},
          "execution_count": 19
        }
      ]
    },
    {
      "cell_type": "markdown",
      "source": [
        "\n",
        "25. Write a code to check if the key \"city\" exists in the dictionary {'name': 'Alice', 'city': 'Paris'}."
      ],
      "metadata": {
        "id": "ylvZ8pCtt6O4"
      }
    },
    {
      "cell_type": "code",
      "source": [
        "m={'name': 'Alice', 'city': 'Paris'}"
      ],
      "metadata": {
        "id": "sudjy1RsuAYt"
      },
      "execution_count": 20,
      "outputs": []
    },
    {
      "cell_type": "code",
      "source": [
        "m"
      ],
      "metadata": {
        "colab": {
          "base_uri": "https://localhost:8080/"
        },
        "id": "K0dfQX6ruFq1",
        "outputId": "63732ade-7ae7-499c-9720-460b29fa8b71"
      },
      "execution_count": 21,
      "outputs": [
        {
          "output_type": "execute_result",
          "data": {
            "text/plain": [
              "{'name': 'Alice', 'city': 'Paris'}"
            ]
          },
          "metadata": {},
          "execution_count": 21
        }
      ]
    },
    {
      "cell_type": "code",
      "source": [
        "\"city\" in m"
      ],
      "metadata": {
        "colab": {
          "base_uri": "https://localhost:8080/"
        },
        "id": "fr_CUj66uIKs",
        "outputId": "509e6c79-f69c-476e-f353-b8780b23a6bb"
      },
      "execution_count": 22,
      "outputs": [
        {
          "output_type": "execute_result",
          "data": {
            "text/plain": [
              "True"
            ]
          },
          "metadata": {},
          "execution_count": 22
        }
      ]
    },
    {
      "cell_type": "markdown",
      "source": [
        "26. Write a code to create a list, a tuple, and a dictionary, and print them all."
      ],
      "metadata": {
        "id": "NsmPW3RyuNIK"
      }
    },
    {
      "cell_type": "code",
      "source": [
        "# create a list\n",
        "my_list = [1, 2, 3, 4, 5]\n",
        "\n",
        "# Create a tuple\n",
        "my_tuple = ('apple', 'banana', 'cherry')\n",
        "\n",
        "# Create a dictionary\n",
        "my_dict = {'name': 'Alice', 'age': 22, 'city': 'New York'}\n",
        "\n",
        "print(\"List:\", my_list)\n",
        "print(\"Tuple:\", my_tuple)\n",
        "print(\"Dictionary:\", my_dict)"
      ],
      "metadata": {
        "colab": {
          "base_uri": "https://localhost:8080/"
        },
        "id": "6jy3a_IZuTfp",
        "outputId": "1e3ac3a3-b80f-4cb0-c0ca-c781ec22f052"
      },
      "execution_count": 23,
      "outputs": [
        {
          "output_type": "stream",
          "name": "stdout",
          "text": [
            "List: [1, 2, 3, 4, 5]\n",
            "Tuple: ('apple', 'banana', 'cherry')\n",
            "Dictionary: {'name': 'Alice', 'age': 22, 'city': 'New York'}\n"
          ]
        }
      ]
    },
    {
      "cell_type": "markdown",
      "source": [
        "27. Write a code to create a list of 5 random numbers between 1 and 100, sort it in ascending order, and print the\n",
        "result.(replaced)"
      ],
      "metadata": {
        "id": "1f4DdyQIukwX"
      }
    },
    {
      "cell_type": "code",
      "source": [
        "x=[23,56,98,1,34]"
      ],
      "metadata": {
        "id": "X_Grwt90updV"
      },
      "execution_count": 24,
      "outputs": []
    },
    {
      "cell_type": "code",
      "source": [
        "x"
      ],
      "metadata": {
        "colab": {
          "base_uri": "https://localhost:8080/"
        },
        "id": "E80eSc0KvDQQ",
        "outputId": "48452a8d-3a64-458d-d878-02f94cc0cd75"
      },
      "execution_count": 25,
      "outputs": [
        {
          "output_type": "execute_result",
          "data": {
            "text/plain": [
              "[23, 56, 98, 1, 34]"
            ]
          },
          "metadata": {},
          "execution_count": 25
        }
      ]
    },
    {
      "cell_type": "code",
      "source": [
        "x.sort()"
      ],
      "metadata": {
        "id": "eYPDLrvkvEc2"
      },
      "execution_count": 26,
      "outputs": []
    },
    {
      "cell_type": "code",
      "source": [
        "x"
      ],
      "metadata": {
        "colab": {
          "base_uri": "https://localhost:8080/"
        },
        "id": "Vluc0gEfvHZG",
        "outputId": "b7762be9-697b-4865-843a-4914c3ca1d1f"
      },
      "execution_count": 27,
      "outputs": [
        {
          "output_type": "execute_result",
          "data": {
            "text/plain": [
              "[1, 23, 34, 56, 98]"
            ]
          },
          "metadata": {},
          "execution_count": 27
        }
      ]
    },
    {
      "cell_type": "markdown",
      "source": [
        "28. Write a code to create a list with strings and print the element at the third index."
      ],
      "metadata": {
        "id": "SyiEBWgyvItH"
      }
    },
    {
      "cell_type": "code",
      "source": [
        "fruits = [\"apple\", \"banana\", \"cherry\", \"mango\", \"orange\"]\n"
      ],
      "metadata": {
        "id": "jBINOIGnvMnl"
      },
      "execution_count": 28,
      "outputs": []
    },
    {
      "cell_type": "code",
      "source": [
        "fruits"
      ],
      "metadata": {
        "colab": {
          "base_uri": "https://localhost:8080/"
        },
        "id": "Itk5oWEUvalz",
        "outputId": "e76d0290-0c10-4ee8-92e4-d1ff6d6df481"
      },
      "execution_count": 29,
      "outputs": [
        {
          "output_type": "execute_result",
          "data": {
            "text/plain": [
              "['apple', 'banana', 'cherry', 'mango', 'orange']"
            ]
          },
          "metadata": {},
          "execution_count": 29
        }
      ]
    },
    {
      "cell_type": "code",
      "source": [
        "fruits[3]"
      ],
      "metadata": {
        "colab": {
          "base_uri": "https://localhost:8080/",
          "height": 36
        },
        "id": "MzEIsFLgvcbt",
        "outputId": "56932ce3-4b47-48fc-8054-f610656d1cf2"
      },
      "execution_count": 30,
      "outputs": [
        {
          "output_type": "execute_result",
          "data": {
            "text/plain": [
              "'mango'"
            ],
            "application/vnd.google.colaboratory.intrinsic+json": {
              "type": "string"
            }
          },
          "metadata": {},
          "execution_count": 30
        }
      ]
    },
    {
      "cell_type": "markdown",
      "source": [],
      "metadata": {
        "id": "3SdMh0f0vfLx"
      }
    },
    {
      "cell_type": "markdown",
      "source": [
        "29. Write a code to combine two dictionaries into one and print the result.\n",
        "\n"
      ],
      "metadata": {
        "id": "0KF30qAfvlsX"
      }
    },
    {
      "cell_type": "code",
      "source": [
        "m={'name': 'Alice', 'city': 'Paris'}"
      ],
      "metadata": {
        "id": "AUc4U_ZuvrXX"
      },
      "execution_count": 31,
      "outputs": []
    },
    {
      "cell_type": "code",
      "source": [
        "m"
      ],
      "metadata": {
        "colab": {
          "base_uri": "https://localhost:8080/"
        },
        "id": "bj9xX7u3vx8e",
        "outputId": "720a015e-f876-4e32-8e1c-6ec10abb6f00"
      },
      "execution_count": 32,
      "outputs": [
        {
          "output_type": "execute_result",
          "data": {
            "text/plain": [
              "{'name': 'Alice', 'city': 'Paris'}"
            ]
          },
          "metadata": {},
          "execution_count": 32
        }
      ]
    },
    {
      "cell_type": "code",
      "source": [
        "n={\"phone number\":123,\"age\":23}"
      ],
      "metadata": {
        "id": "c0cHx3kQvzKq"
      },
      "execution_count": 41,
      "outputs": []
    },
    {
      "cell_type": "code",
      "source": [
        "n"
      ],
      "metadata": {
        "colab": {
          "base_uri": "https://localhost:8080/"
        },
        "id": "2KcNhyo9wHpt",
        "outputId": "d0fc4255-1794-4590-c5b1-f403929f812a"
      },
      "execution_count": 43,
      "outputs": [
        {
          "output_type": "execute_result",
          "data": {
            "text/plain": [
              "{'phone number': 123, 'age': 23}"
            ]
          },
          "metadata": {},
          "execution_count": 43
        }
      ]
    },
    {
      "cell_type": "code",
      "source": [
        "m.update(n)"
      ],
      "metadata": {
        "id": "vmXBdAl8wI-H"
      },
      "execution_count": 45,
      "outputs": []
    },
    {
      "cell_type": "code",
      "source": [
        "m"
      ],
      "metadata": {
        "colab": {
          "base_uri": "https://localhost:8080/"
        },
        "id": "tccn99FYwhh5",
        "outputId": "9da5a421-85b9-40d8-9849-e20597b4095b"
      },
      "execution_count": 46,
      "outputs": [
        {
          "output_type": "execute_result",
          "data": {
            "text/plain": [
              "{'name': 'Alice',\n",
              " 'city': 'Paris',\n",
              " 'phone number': 123,\n",
              " 'DOB': -1997,\n",
              " 'age': 23}"
            ]
          },
          "metadata": {},
          "execution_count": 46
        }
      ]
    },
    {
      "cell_type": "markdown",
      "source": [
        "30. Write a code to convert a list of strings into a set."
      ],
      "metadata": {
        "id": "08u-584Qw2Ql"
      }
    },
    {
      "cell_type": "code",
      "source": [
        "x=[\"xyz\",\"abc\",\"mno\",\"pqr\"]"
      ],
      "metadata": {
        "id": "KNZ6egd9w_W5"
      },
      "execution_count": 47,
      "outputs": []
    },
    {
      "cell_type": "code",
      "source": [
        "x"
      ],
      "metadata": {
        "colab": {
          "base_uri": "https://localhost:8080/"
        },
        "id": "x468Fjwlw10l",
        "outputId": "1ae183d7-f104-464e-c4a0-977dfb9b29e8"
      },
      "execution_count": 48,
      "outputs": [
        {
          "output_type": "execute_result",
          "data": {
            "text/plain": [
              "['xyz', 'abc', 'mno', 'pqr']"
            ]
          },
          "metadata": {},
          "execution_count": 48
        }
      ]
    },
    {
      "cell_type": "code",
      "source": [
        "my_set=set(x)"
      ],
      "metadata": {
        "id": "lOW-qgJwxNwk"
      },
      "execution_count": 49,
      "outputs": []
    },
    {
      "cell_type": "code",
      "source": [
        "my_set"
      ],
      "metadata": {
        "colab": {
          "base_uri": "https://localhost:8080/"
        },
        "id": "qRM_NuKWxc0L",
        "outputId": "c4e0ee5c-1351-43b8-8e78-d3de1a1f8142"
      },
      "execution_count": 50,
      "outputs": [
        {
          "output_type": "execute_result",
          "data": {
            "text/plain": [
              "{'abc', 'mno', 'pqr', 'xyz'}"
            ]
          },
          "metadata": {},
          "execution_count": 50
        }
      ]
    }
  ]
}