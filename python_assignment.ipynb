{
  "nbformat": 4,
  "nbformat_minor": 0,
  "metadata": {
    "colab": {
      "provenance": []
    },
    "kernelspec": {
      "name": "python3",
      "display_name": "Python 3"
    },
    "language_info": {
      "name": "python"
    }
  },
  "cells": [
    {
      "cell_type": "markdown",
      "source": [
        "# ASSIGNMENT"
      ],
      "metadata": {
        "id": "SkpOjDpjzrAi"
      }
    },
    {
      "cell_type": "markdown",
      "source": [
        "# THEORY QUESTIONS"
      ],
      "metadata": {
        "id": "mN0zVW_wFnX-"
      }
    },
    {
      "cell_type": "markdown",
      "source": [
        "1. What is Python, and why is it popular?\n",
        ">>Python is a high-level, interpreted, object-oriented programming language known for its simplicity and readability.\n",
        "\n",
        "It is popular because:\n",
        "\n",
        "*Easy to learn and read .\n",
        "*Large standard library .\n",
        "*Wide use in web development, data science, AI, automation, and more.\n",
        "*Huge community support.\n",
        "\n",
        "2. What is an interpreter in Python?\n",
        ">>The Python interpreter is a program that reads and executes Python code line by line.\n",
        "It translates the human-readable Python code into machine instructions at runtime.\n",
        "\n",
        "3. What are pre-defined keywords in Python?\n",
        ">>Keywords are reserved words in Python that have special meaning\n",
        "Example- if, else, while, for, class, def, return.\n",
        "They cannot be used for any other purpose.\n",
        "\n",
        "4. Can keywords be used as variable names?\n",
        ">> No ,keywords cannot be used as variable names because they are reserved by the language.\n",
        "\n",
        "5. What is mutability in Python?\n",
        ">>Mutability refers to whether an object’s content can be changed after creation.\n",
        "\n",
        "*Mutable objects can be modified\n",
        "(e.g., lists, dictionaries).\n",
        "\n",
        "*Immutable objects cannot be modified\n",
        "(e.g., strings, tuples).\n",
        "\n",
        "6. Why are lists mutable, but tuples are immutable?\n",
        ">>Lists are designed to hold stuff that can change (like a shopping cart where you add/remove items).\n",
        "Example-(1,2,\"abc\",\"data\")\n",
        "\n",
        "Tuples are meant to be fixed, more like a sealed box—you can look inside but can’t replace what’s there.\n",
        "\n",
        "7.What is the difference between “==” and “is” operators in Python?\n",
        ">>\n",
        "==  checks values (It mainly checks whether the contents are equal?).\n",
        "\n",
        "is checks identity (do both variables point to the same memory location?).\n",
        "\n",
        "8.What are logical operators in Python?\n",
        ">>Logical operators combine various types of conditions in following manner:\n",
        "\n",
        "*and → True if both are true.\n",
        "*or → True if at least one is true.\n",
        "\n",
        "9. What is type casting in Python?\n",
        "Type casting is converting one data type into another.\n",
        "Example:\n",
        "\n",
        "x = int(\"10\")   (It showcase how to convert string → integer)\n",
        "y = float(5)    (It showcase how to convert int → float)\n",
        "\n",
        "10. What is the difference between implicit and explicit type casting?\n",
        ">>Implicit casting - Python automatically converts a smaller type to a bigger type.\n",
        "\n",
        "x = 5      # int\n",
        "y = 2.0    # float\n",
        "result = x + y   result is float (implicit casting)\n",
        "\n",
        "Explicit casting: Programmer manually converts types using functions.\n",
        "example-(int(), float(), str()).\n",
        "\n",
        "11. What is the purpose of conditional statements in Python?\n",
        ">>Conditional statements allow the program to make decisions and execute code only if certain conditions are true.\n",
        "Examples: if, elif, else.\n",
        "\n",
        "12. How does the elif statement work?\n",
        ">>elif (else if) checks another condition if the previous if was false.\n",
        "Example:\n",
        "\n",
        "a=100\n",
        "if a>100:\n",
        "    print(\"number greater than 100\")\n",
        "elif a<100:\n",
        "    print(\"number smaller than 100\")\n",
        "else:\n",
        "    print(\"number is 100\")\n",
        "\n",
        "13. What is the difference between for and while loops?\n",
        ">>for loop is used when you know how many times to iterate (loops over a sequence or range).\n",
        "\n",
        "while loop is used when you don’t know how many times to loop; it continues until a condition becomes false.\n",
        "\n",
        "14. Describe a scenario where a while loop is more suitable than a for loop.\n",
        ">>number = -1  \n",
        "while number <= 0:  \n",
        "    number = int(input(\"Enter a positive number: \"))  \n",
        "\n",
        "print(\"Thank you\")"
      ],
      "metadata": {
        "id": "5IYADifIt6dd"
      }
    }
  ]
}