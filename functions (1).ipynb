{
  "nbformat": 4,
  "nbformat_minor": 0,
  "metadata": {
    "colab": {
      "provenance": []
    },
    "kernelspec": {
      "name": "python3",
      "display_name": "Python 3"
    },
    "language_info": {
      "name": "python"
    }
  },
  "cells": [
    {
      "cell_type": "markdown",
      "source": [
        "# **FUNCTIONS**"
      ],
      "metadata": {
        "id": "MsnsImwvWFMM"
      }
    },
    {
      "cell_type": "markdown",
      "source": [
        "# THEORY QUESTIONS"
      ],
      "metadata": {
        "id": "LDoKlzRRWKPG"
      }
    },
    {
      "cell_type": "markdown",
      "source": [
        "1. What is the difference between a function and a method in Python?\n",
        ">>Function: A block of code that performs a specific task. Defined with def and called independently.\n",
        "\n",
        "Method: A function associated with an object or class, called using dot (.) notation.\n",
        "\n",
        "example-\n",
        "def greet():  # function\n",
        "    print(\"Hello!\")\n",
        "\n",
        "text = \"python\"\n",
        "print(text.upper())  # .upper() is a method\n",
        "\n",
        "2. Explain the concept of function arguments and parameters in Python.\n",
        ">>Parameter: Variable defined in a function’s declaration.\n",
        "\n",
        "Argument: Actual value passed when calling the function.\n",
        "\n",
        "Examples-\n",
        "def greet(name):   Here,name = parameter\n",
        "    print(\"Hello\", name)\n",
        "\n",
        "greet(\"Alice\")    Here,\"Alice\" = argument\n",
        "\n",
        "3. What are the different ways to define and call a function in Python?\n",
        ">>Standard function:\n",
        "\n",
        "def add(a, b):\n",
        "    return a + b\n",
        "print(add(3, 5))\n",
        "\n",
        "\n",
        "With default parameter:\n",
        "\n",
        "def greet(name=\"Guest\"):\n",
        "    return f\"Hello {name}\"\n",
        "print(greet())\n",
        "\n",
        "\n",
        "With **kwargs (keyword arguments):\n",
        "\n",
        "def details(**info):\n",
        "    return info\n",
        "print(details(name=\"Mahi\", age=20))\n",
        "\n",
        "\n",
        "Lambda function:\n",
        "\n",
        "square = lambda x: x**2\n",
        "print(square(4))\n",
        "\n",
        "4. What is the purpose of the return statement in a Python function?\n",
        ">>Sends a result back to the caller.\n",
        "\n",
        "Without return, the function gives None.\n",
        "\n",
        "def add(a, b):\n",
        "    return a + b\n",
        "\n",
        "print(add(5, 3))  output=8\n",
        "\n",
        "5. What are iterators in Python and how do they differ from iterables?\n",
        ">>Iterable: An object you can loop over (list, tuple, string).\n",
        "\n",
        "Iterator: Created using iter(), produces items one at a time using next().\n",
        "\n",
        "nums = [1, 2, 3]     # Iterable\n",
        "it = iter(nums)      # Iterator\n",
        "print(next(it))      # 1\n",
        "print(next(it))      # 2\n",
        "\n",
        "\n",
        "Every iterator is iterable, but not every iterable is an iterator.\n",
        "\n",
        "6. Explain the concept of generators in Python and how they are defined.\n",
        ">>Generators are special functions that use yield to return values one at a time.\n",
        "\n",
        "They remember their state between calls.\n",
        "\n",
        " example-\n",
        "def counter():\n",
        "    for i in range(3):\n",
        "        yield i\n",
        "\n",
        "for val in counter():\n",
        "    print(val)\n",
        "\n",
        "7. What are the advantages of using generators over regular functions?\n",
        ">>Memory-efficient (don’t store all values at once).\n",
        "\n",
        "Lazy evaluation (values generated only when needed).\n",
        "\n",
        "Can handle infinite sequences.\n",
        "\n",
        "8. What is a lambda function in Python and when is it typically used?\n",
        ">>A one-line anonymous function created using lambda.\n",
        "\n",
        "Useful for short operations, often inside map(), filter(), or sorted().\n",
        "\n",
        "example\n",
        "square = lambda x: x**2\n",
        "print(square(5))  # 25\n",
        "\n",
        "9. Explain the purpose and usage of the map() function in Python.\n",
        ">>map() applies a function to each element of an iterable.\n",
        "\n",
        "nums = [1, 2, 3]\n",
        "squares = map(lambda x: x**2, nums)\n",
        "print(list(squares))  # [1, 4, 9]\n",
        "\n",
        "10. What is the difference between map(), reduce(), and filter() functions in Python?\n",
        ">>map() → Transforms every element.\n",
        "\n",
        "filter() → Keeps only elements matching a condition.\n",
        "\n",
        "reduce() → Combines elements into a single value .\n",
        "\n",
        "nums = [1, 2, 3, 4]\n",
        "# map\n",
        "print(list(map(lambda x: x*2, nums)))  output [2, 4, 6, 8]\n",
        "\n",
        "# filter\n",
        "print(list(filter(lambda x: x%2==0, nums)))  output [2, 4]\n",
        "\n",
        "# reduce\n",
        "from functools import reduce\n",
        "print(reduce(lambda x,y: x+y, nums))  output 10"
      ],
      "metadata": {
        "id": "_FbWVWAgWO4m"
      }
    },
    {
      "cell_type": "markdown",
      "source": [
        "# **PRACTICAL QUESTIONS**"
      ],
      "metadata": {
        "id": "lHVrJZhvYPaa"
      }
    },
    {
      "cell_type": "markdown",
      "source": [
        "1. Write a Python function that takes a list of numbers as input and returns the sum of all even numbers in\n",
        "the list."
      ],
      "metadata": {
        "id": "3u9rcKoPYTSX"
      }
    },
    {
      "cell_type": "code",
      "source": [
        "def sum_of_even(numbers):\n",
        "    total = 0\n",
        "    for num in numbers:\n",
        "        if num % 2 == 0:  # check if number is even\n",
        "            total += num\n",
        "    return total\n"
      ],
      "metadata": {
        "id": "Z4rqUwU1ZKS_"
      },
      "execution_count": 6,
      "outputs": []
    },
    {
      "cell_type": "code",
      "source": [
        "numbers = [1, 2, 3, 4, 5, 6]\n",
        "print(sum_of_even(numbers))"
      ],
      "metadata": {
        "colab": {
          "base_uri": "https://localhost:8080/"
        },
        "id": "aHtanjEHZjvj",
        "outputId": "26588bc4-335c-4af0-d1ec-6fdf5b071724"
      },
      "execution_count": 7,
      "outputs": [
        {
          "output_type": "stream",
          "name": "stdout",
          "text": [
            "12\n"
          ]
        }
      ]
    },
    {
      "cell_type": "markdown",
      "source": [
        "2.Create a Python function that accepts a string and returns the reverse of that string"
      ],
      "metadata": {
        "id": "TGOZ0UKSaMXX"
      }
    },
    {
      "cell_type": "code",
      "source": [
        "def string(text):\n",
        "    return text[::-1]"
      ],
      "metadata": {
        "id": "ZScURI-OaPp1"
      },
      "execution_count": 10,
      "outputs": []
    },
    {
      "cell_type": "code",
      "source": [
        "string(\"python\")"
      ],
      "metadata": {
        "colab": {
          "base_uri": "https://localhost:8080/",
          "height": 36
        },
        "id": "DLkCfGlOamfh",
        "outputId": "f45656c9-f157-479f-ff8b-2855dcdfd936"
      },
      "execution_count": 12,
      "outputs": [
        {
          "output_type": "execute_result",
          "data": {
            "text/plain": [
              "'nohtyp'"
            ],
            "application/vnd.google.colaboratory.intrinsic+json": {
              "type": "string"
            }
          },
          "metadata": {},
          "execution_count": 12
        }
      ]
    },
    {
      "cell_type": "markdown",
      "source": [
        "3. Implement a Python function that takes a list of integers and returns a new list containing the squares of\n",
        "each number."
      ],
      "metadata": {
        "id": "DzrzoGyEaunn"
      }
    },
    {
      "cell_type": "code",
      "source": [
        "def squares(a):\n",
        "  return [x**2 for x in a]"
      ],
      "metadata": {
        "id": "y9TASx9fazyA"
      },
      "execution_count": 20,
      "outputs": []
    },
    {
      "cell_type": "code",
      "source": [
        "a=[1,3,5,8]\n",
        "print (squares(a))"
      ],
      "metadata": {
        "colab": {
          "base_uri": "https://localhost:8080/"
        },
        "id": "SHwdc2M0a-Ia",
        "outputId": "30a98251-5b14-4a3c-d0ab-cf5b729747cd"
      },
      "execution_count": 27,
      "outputs": [
        {
          "output_type": "stream",
          "name": "stdout",
          "text": [
            "[1, 9, 25, 64]\n"
          ]
        }
      ]
    },
    {
      "cell_type": "markdown",
      "source": [
        "4. Write a Python function that checks if a given number is prime or not from 1 to 200."
      ],
      "metadata": {
        "id": "vrgExH8vb6bX"
      }
    },
    {
      "cell_type": "code",
      "source": [
        "def primes(b):\n",
        "    for n in b:\n",
        "        if n < 2:\n",
        "            print(n, \"is not prime\")\n",
        "        elif n in [2, 3, 5, 7]:\n",
        "            print(n, \"is prime\")\n",
        "        elif n % 2 == 0 or n % 3 == 0 or n % 5 == 0 or n % 7 == 0:\n",
        "            print(n, \"is not prime\")\n",
        "        else:\n",
        "            print(n, \"is prime\")"
      ],
      "metadata": {
        "id": "3blZXLYSb_DG"
      },
      "execution_count": 29,
      "outputs": []
    },
    {
      "cell_type": "code",
      "source": [
        "primes(range(1,201))"
      ],
      "metadata": {
        "colab": {
          "base_uri": "https://localhost:8080/"
        },
        "id": "OLBzzlSTdSNV",
        "outputId": "83b40387-9ff6-4981-9312-6dc79171e705"
      },
      "execution_count": 31,
      "outputs": [
        {
          "output_type": "stream",
          "name": "stdout",
          "text": [
            "1 is not prime\n",
            "2 is prime\n",
            "3 is prime\n",
            "4 is not prime\n",
            "5 is prime\n",
            "6 is not prime\n",
            "7 is prime\n",
            "8 is not prime\n",
            "9 is not prime\n",
            "10 is not prime\n",
            "11 is prime\n",
            "12 is not prime\n",
            "13 is prime\n",
            "14 is not prime\n",
            "15 is not prime\n",
            "16 is not prime\n",
            "17 is prime\n",
            "18 is not prime\n",
            "19 is prime\n",
            "20 is not prime\n",
            "21 is not prime\n",
            "22 is not prime\n",
            "23 is prime\n",
            "24 is not prime\n",
            "25 is not prime\n",
            "26 is not prime\n",
            "27 is not prime\n",
            "28 is not prime\n",
            "29 is prime\n",
            "30 is not prime\n",
            "31 is prime\n",
            "32 is not prime\n",
            "33 is not prime\n",
            "34 is not prime\n",
            "35 is not prime\n",
            "36 is not prime\n",
            "37 is prime\n",
            "38 is not prime\n",
            "39 is not prime\n",
            "40 is not prime\n",
            "41 is prime\n",
            "42 is not prime\n",
            "43 is prime\n",
            "44 is not prime\n",
            "45 is not prime\n",
            "46 is not prime\n",
            "47 is prime\n",
            "48 is not prime\n",
            "49 is not prime\n",
            "50 is not prime\n",
            "51 is not prime\n",
            "52 is not prime\n",
            "53 is prime\n",
            "54 is not prime\n",
            "55 is not prime\n",
            "56 is not prime\n",
            "57 is not prime\n",
            "58 is not prime\n",
            "59 is prime\n",
            "60 is not prime\n",
            "61 is prime\n",
            "62 is not prime\n",
            "63 is not prime\n",
            "64 is not prime\n",
            "65 is not prime\n",
            "66 is not prime\n",
            "67 is prime\n",
            "68 is not prime\n",
            "69 is not prime\n",
            "70 is not prime\n",
            "71 is prime\n",
            "72 is not prime\n",
            "73 is prime\n",
            "74 is not prime\n",
            "75 is not prime\n",
            "76 is not prime\n",
            "77 is not prime\n",
            "78 is not prime\n",
            "79 is prime\n",
            "80 is not prime\n",
            "81 is not prime\n",
            "82 is not prime\n",
            "83 is prime\n",
            "84 is not prime\n",
            "85 is not prime\n",
            "86 is not prime\n",
            "87 is not prime\n",
            "88 is not prime\n",
            "89 is prime\n",
            "90 is not prime\n",
            "91 is not prime\n",
            "92 is not prime\n",
            "93 is not prime\n",
            "94 is not prime\n",
            "95 is not prime\n",
            "96 is not prime\n",
            "97 is prime\n",
            "98 is not prime\n",
            "99 is not prime\n",
            "100 is not prime\n",
            "101 is prime\n",
            "102 is not prime\n",
            "103 is prime\n",
            "104 is not prime\n",
            "105 is not prime\n",
            "106 is not prime\n",
            "107 is prime\n",
            "108 is not prime\n",
            "109 is prime\n",
            "110 is not prime\n",
            "111 is not prime\n",
            "112 is not prime\n",
            "113 is prime\n",
            "114 is not prime\n",
            "115 is not prime\n",
            "116 is not prime\n",
            "117 is not prime\n",
            "118 is not prime\n",
            "119 is not prime\n",
            "120 is not prime\n",
            "121 is prime\n",
            "122 is not prime\n",
            "123 is not prime\n",
            "124 is not prime\n",
            "125 is not prime\n",
            "126 is not prime\n",
            "127 is prime\n",
            "128 is not prime\n",
            "129 is not prime\n",
            "130 is not prime\n",
            "131 is prime\n",
            "132 is not prime\n",
            "133 is not prime\n",
            "134 is not prime\n",
            "135 is not prime\n",
            "136 is not prime\n",
            "137 is prime\n",
            "138 is not prime\n",
            "139 is prime\n",
            "140 is not prime\n",
            "141 is not prime\n",
            "142 is not prime\n",
            "143 is prime\n",
            "144 is not prime\n",
            "145 is not prime\n",
            "146 is not prime\n",
            "147 is not prime\n",
            "148 is not prime\n",
            "149 is prime\n",
            "150 is not prime\n",
            "151 is prime\n",
            "152 is not prime\n",
            "153 is not prime\n",
            "154 is not prime\n",
            "155 is not prime\n",
            "156 is not prime\n",
            "157 is prime\n",
            "158 is not prime\n",
            "159 is not prime\n",
            "160 is not prime\n",
            "161 is not prime\n",
            "162 is not prime\n",
            "163 is prime\n",
            "164 is not prime\n",
            "165 is not prime\n",
            "166 is not prime\n",
            "167 is prime\n",
            "168 is not prime\n",
            "169 is prime\n",
            "170 is not prime\n",
            "171 is not prime\n",
            "172 is not prime\n",
            "173 is prime\n",
            "174 is not prime\n",
            "175 is not prime\n",
            "176 is not prime\n",
            "177 is not prime\n",
            "178 is not prime\n",
            "179 is prime\n",
            "180 is not prime\n",
            "181 is prime\n",
            "182 is not prime\n",
            "183 is not prime\n",
            "184 is not prime\n",
            "185 is not prime\n",
            "186 is not prime\n",
            "187 is prime\n",
            "188 is not prime\n",
            "189 is not prime\n",
            "190 is not prime\n",
            "191 is prime\n",
            "192 is not prime\n",
            "193 is prime\n",
            "194 is not prime\n",
            "195 is not prime\n",
            "196 is not prime\n",
            "197 is prime\n",
            "198 is not prime\n",
            "199 is prime\n",
            "200 is not prime\n"
          ]
        }
      ]
    },
    {
      "cell_type": "markdown",
      "source": [
        "5. Create an iterator class in Python that generates the Fibonacci sequence up to a specified number of\n",
        "terms."
      ],
      "metadata": {
        "id": "1tt9m4x1d9kU"
      }
    },
    {
      "cell_type": "code",
      "source": [
        "def fibonacci(n_terms):\n",
        "    a, b = 0, 1\n",
        "    for _ in range(n_terms):\n",
        "        yield a\n",
        "        a, b = b, a + b\n",
        ""
      ],
      "metadata": {
        "id": "29OcP66sd-S4"
      },
      "execution_count": 32,
      "outputs": []
    },
    {
      "cell_type": "code",
      "source": [
        "list(fibonacci(10))"
      ],
      "metadata": {
        "colab": {
          "base_uri": "https://localhost:8080/"
        },
        "id": "y46rEry7fuzr",
        "outputId": "4290fd76-6849-4aa4-cc30-65865ea594ac"
      },
      "execution_count": 34,
      "outputs": [
        {
          "output_type": "execute_result",
          "data": {
            "text/plain": [
              "[0, 1, 1, 2, 3, 5, 8, 13, 21, 34]"
            ]
          },
          "metadata": {},
          "execution_count": 34
        }
      ]
    },
    {
      "cell_type": "markdown",
      "source": [
        "6. Write a generator function in Python that yields the powers of 2 up to a given exponent."
      ],
      "metadata": {
        "id": "cj1DF4Szf4zl"
      }
    },
    {
      "cell_type": "code",
      "source": [
        "def powers_of_two(limit):\n",
        "    for exp in range(limit + 1):\n",
        "        yield 2 ** exp"
      ],
      "metadata": {
        "id": "svI9fYVaf8pz"
      },
      "execution_count": 35,
      "outputs": []
    },
    {
      "cell_type": "code",
      "source": [
        "list(powers_of_two(5))"
      ],
      "metadata": {
        "colab": {
          "base_uri": "https://localhost:8080/"
        },
        "id": "FnyaYJ_3gQoa",
        "outputId": "2da50b6a-e6da-4392-fa1b-88b055a5e533"
      },
      "execution_count": 37,
      "outputs": [
        {
          "output_type": "execute_result",
          "data": {
            "text/plain": [
              "[1, 2, 4, 8, 16, 32]"
            ]
          },
          "metadata": {},
          "execution_count": 37
        }
      ]
    },
    {
      "cell_type": "markdown",
      "source": [
        "7.Implement a generator function that reads a file line by line and yields each line as a string."
      ],
      "metadata": {
        "id": "V85gmEEygaIS"
      }
    },
    {
      "cell_type": "code",
      "source": [],
      "metadata": {
        "id": "giIV2cZqgd8O"
      },
      "execution_count": null,
      "outputs": []
    },
    {
      "cell_type": "markdown",
      "source": [
        "8. Use a lambda function in Python to sort a list of tuples based on the second element of each tuple."
      ],
      "metadata": {
        "id": "o9L6LctUguMm"
      }
    },
    {
      "cell_type": "code",
      "source": [
        "data = [(1, 5), (3, 2), (4, 8), (2, 1)]"
      ],
      "metadata": {
        "id": "QytusLs7gxsG"
      },
      "execution_count": 38,
      "outputs": []
    },
    {
      "cell_type": "code",
      "source": [
        "sorted(data,key=lambda x:x[1])"
      ],
      "metadata": {
        "colab": {
          "base_uri": "https://localhost:8080/"
        },
        "id": "8zfhCeDqhkCx",
        "outputId": "1cd4075e-2069-4fe9-b847-ef6438e13531"
      },
      "execution_count": 40,
      "outputs": [
        {
          "output_type": "execute_result",
          "data": {
            "text/plain": [
              "[(2, 1), (3, 2), (1, 5), (4, 8)]"
            ]
          },
          "metadata": {},
          "execution_count": 40
        }
      ]
    },
    {
      "cell_type": "markdown",
      "source": [
        "\n",
        "9. Write a Python program that uses `map()` to convert a list of temperatures from Celsius to Fahrenheit."
      ],
      "metadata": {
        "id": "Oqk-BQGOh25h"
      }
    },
    {
      "cell_type": "code",
      "source": [
        "celsius=[45,89,50]"
      ],
      "metadata": {
        "id": "KftPxfLZiBu9"
      },
      "execution_count": 46,
      "outputs": []
    },
    {
      "cell_type": "code",
      "source": [
        "list(map(lambda c:(c * 9/5) + 32, celsius))"
      ],
      "metadata": {
        "colab": {
          "base_uri": "https://localhost:8080/"
        },
        "id": "6aqK2PviilcJ",
        "outputId": "205d7fa2-2640-43e2-f7c1-d959f918d8b5"
      },
      "execution_count": 48,
      "outputs": [
        {
          "output_type": "execute_result",
          "data": {
            "text/plain": [
              "[113.0, 192.2, 122.0]"
            ]
          },
          "metadata": {},
          "execution_count": 48
        }
      ]
    },
    {
      "cell_type": "markdown",
      "source": [
        "10. Create a Python program that uses `filter()` to remove all the vowels from a given string"
      ],
      "metadata": {
        "id": "_JmyUNiHjIyu"
      }
    },
    {
      "cell_type": "code",
      "source": [
        "text = \"Hello World\"\n",
        "\n",
        "\n",
        "def no_vowel(char):\n",
        "    return char.lower() not in 'aeiou'\n",
        "\n",
        "# Use filter() to remove vowels\n",
        "filtered_text = ''.join(filter(no_vowel, text))\n",
        "\n",
        "print(filtered_text)"
      ],
      "metadata": {
        "colab": {
          "base_uri": "https://localhost:8080/"
        },
        "id": "Zmv4YXJijNvm",
        "outputId": "5fe2d1ce-fbea-40f5-eccf-b446fec17f32"
      },
      "execution_count": 49,
      "outputs": [
        {
          "output_type": "stream",
          "name": "stdout",
          "text": [
            "Hll Wrld\n"
          ]
        }
      ]
    },
    {
      "cell_type": "markdown",
      "source": [
        "11.ques"
      ],
      "metadata": {
        "id": "F_t0KjjQjg0n"
      }
    },
    {
      "cell_type": "code",
      "source": [
        "orders = [ [34587, \"Learning Python, Mark Lutz\", 4, 40.95],\n",
        "    [98762, \"Programming Python, Mark Lutz\", 5, 56.80],\n",
        "    [77226, \"Head First Python, Paul Barry\", 3, 32.95],\n",
        "    [88112, \"Einführung in Python3, Bernd Klein\", 3, 24.99]]\n",
        "\n",
        "order_totals = list(map(lambda x: (x[0], x[2] * x[3] if x[2] * x[3] >= 100 else x[2] * x[3] + 10), orders))\n",
        "\n",
        "print(order_totals)"
      ],
      "metadata": {
        "colab": {
          "base_uri": "https://localhost:8080/"
        },
        "id": "fDbwStF1lFIH",
        "outputId": "c6a1f78e-28ef-4370-c940-f17f52ec8dd8"
      },
      "execution_count": 50,
      "outputs": [
        {
          "output_type": "stream",
          "name": "stdout",
          "text": [
            "[(34587, 163.8), (98762, 284.0), (77226, 108.85000000000001), (88112, 84.97)]\n"
          ]
        }
      ]
    }
  ]
}