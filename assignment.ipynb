{
  "metadata": {
    "kernelspec": {
      "name": "python",
      "display_name": "Python (Pyodide)",
      "language": "python"
    },
    "language_info": {
      "codemirror_mode": {
        "name": "python",
        "version": 3
      },
      "file_extension": ".py",
      "mimetype": "text/x-python",
      "name": "python",
      "nbconvert_exporter": "python",
      "pygments_lexer": "ipython3",
      "version": "3.8"
    }
  },
  "nbformat_minor": 5,
  "nbformat": 4,
  "cells": [
    {
      "id": "e03b7fb3-97f2-4679-8cf4-af8331ee6b11",
      "cell_type": "code",
      "source": "# Write a Python program to print \"Hello, World!",
      "metadata": {
        "trusted": true
      },
      "outputs": [],
      "execution_count": 1
    },
    {
      "id": "a6dea17e-1b89-485b-b12f-eda477c65c2a",
      "cell_type": "code",
      "source": "print(\"Hello,World!\")",
      "metadata": {
        "trusted": true
      },
      "outputs": [
        {
          "name": "stdout",
          "output_type": "stream",
          "text": "Hello,World!\n"
        }
      ],
      "execution_count": 2
    },
    {
      "id": "9b31ac6b-272a-41eb-8bc5-8fb39f566add",
      "cell_type": "code",
      "source": "# Write a Python program that displays your name and age",
      "metadata": {
        "trusted": true
      },
      "outputs": [],
      "execution_count": 3
    },
    {
      "id": "572c8b4e-2093-48bb-ac31-45104b8811aa",
      "cell_type": "code",
      "source": "print(\"My name is Mahi\")\nprint(\"My age is 21 years.\")\n",
      "metadata": {
        "trusted": true
      },
      "outputs": [
        {
          "name": "stdout",
          "output_type": "stream",
          "text": "My name is Mahi\nMy age is 21 years.\n"
        }
      ],
      "execution_count": 4
    },
    {
      "id": "f0a4e141-8abc-46e7-968b-0de729b1ef97",
      "cell_type": "code",
      "source": "#Write code to print all the pre-defined keywords in Python using the keyword library",
      "metadata": {
        "trusted": true
      },
      "outputs": [],
      "execution_count": 5
    },
    {
      "id": "0fe85b34-0c59-4d76-98a4-239a6fc78fb2",
      "cell_type": "code",
      "source": "import keyword\nkeyword=keyword.kwlist\n\nprint(\"Python Keywords:\")\nfor kw in keyword:\n  print(kw)\n",
      "metadata": {
        "trusted": true
      },
      "outputs": [
        {
          "name": "stdout",
          "output_type": "stream",
          "text": "Python Keywords:\nFalse\nNone\nTrue\nand\nas\nassert\nasync\nawait\nbreak\nclass\ncontinue\ndef\ndel\nelif\nelse\nexcept\nfinally\nfor\nfrom\nglobal\nif\nimport\nin\nis\nlambda\nnonlocal\nnot\nor\npass\nraise\nreturn\ntry\nwhile\nwith\nyield\n"
        }
      ],
      "execution_count": 6
    },
    {
      "id": "845de62e-79cd-4396-a8f2-3cd52dc8a22d",
      "cell_type": "code",
      "source": "# Write a program that checks if a given word is a Python keyword",
      "metadata": {
        "trusted": true
      },
      "outputs": [],
      "execution_count": 7
    },
    {
      "id": "b021cb4d-fd4c-455c-bbba-0829632501ff",
      "cell_type": "code",
      "source": "import keyword\n\nword = input(\"Enter a word- \")\n\nif word==keyword:\n    print(word, \"is a Python keyword \")\nelse:\n    print(word, \"is NOT a Python keyword \")",
      "metadata": {
        "trusted": true
      },
      "outputs": [
        {
          "output_type": "stream",
          "name": "stdin",
          "text": "Enter a word-  for\n"
        },
        {
          "name": "stdout",
          "output_type": "stream",
          "text": "for is NOT a Python keyword \n"
        }
      ],
      "execution_count": 8
    },
    {
      "id": "d91fe5d7-7fd3-4b4c-839a-e7a98f7227a4",
      "cell_type": "code",
      "source": "# Create a list and tuple in Python, and demonstrate how attempting to change an element works differently for each",
      "metadata": {
        "trusted": true
      },
      "outputs": [],
      "execution_count": 9
    },
    {
      "id": "de8efb18-e25a-4a41-8c68-52258769ff17",
      "cell_type": "code",
      "source": "list_cont=(1,\"2\",\"ABC\",\"XYZ\")\nlist_cont\n",
      "metadata": {
        "trusted": true
      },
      "outputs": [
        {
          "execution_count": 10,
          "output_type": "execute_result",
          "data": {
            "text/plain": "(1, '2', 'ABC', 'XYZ')"
          },
          "metadata": {}
        }
      ],
      "execution_count": 10
    },
    {
      "id": "b4bf6977-19d2-46af-95a1-061e7be623ae",
      "cell_type": "code",
      "source": "fruits = (\"apple\", \"banana\", \"cherry\")\nprint(\"Tuple:\", fruits)\n",
      "metadata": {
        "trusted": true
      },
      "outputs": [
        {
          "name": "stdout",
          "output_type": "stream",
          "text": "Tuple: ('apple', 'banana', 'cherry')\n"
        }
      ],
      "execution_count": 11
    },
    {
      "id": "d2ea8518-9fcb-4d2e-a166-4fe19cef7e65",
      "cell_type": "code",
      "source": "list_cont[1]\nint(list_cont[1])",
      "metadata": {
        "trusted": true
      },
      "outputs": [
        {
          "execution_count": 12,
          "output_type": "execute_result",
          "data": {
            "text/plain": "2"
          },
          "metadata": {}
        }
      ],
      "execution_count": 12
    },
    {
      "id": "83ae1b07-9353-401c-9fc2-090fc57295ec",
      "cell_type": "code",
      "source": "#.Write a function to demonstrate the behavior of mutable and immutable arguments",
      "metadata": {
        "trusted": true
      },
      "outputs": [],
      "execution_count": 13
    },
    {
      "id": "a36db7c5-291c-4bef-a757-96ce58e7743c",
      "cell_type": "code",
      "source": "#mutable\na=\"5\"\ntype(a)",
      "metadata": {
        "trusted": true
      },
      "outputs": [
        {
          "execution_count": 14,
          "output_type": "execute_result",
          "data": {
            "text/plain": "str"
          },
          "metadata": {}
        }
      ],
      "execution_count": 14
    },
    {
      "id": "b6e1525d-d117-419f-bba5-acd43a1cf83c",
      "cell_type": "code",
      "source": "type(int(a))",
      "metadata": {
        "trusted": true
      },
      "outputs": [
        {
          "execution_count": 15,
          "output_type": "execute_result",
          "data": {
            "text/plain": "int"
          },
          "metadata": {}
        }
      ],
      "execution_count": 15
    },
    {
      "id": "70ab29fa-3710-4e78-896c-22a9aca7bfba",
      "cell_type": "code",
      "source": "#immutable\nname=\"alice\"\ntype(\"name\")",
      "metadata": {
        "trusted": true
      },
      "outputs": [
        {
          "execution_count": 16,
          "output_type": "execute_result",
          "data": {
            "text/plain": "str"
          },
          "metadata": {}
        }
      ],
      "execution_count": 16
    },
    {
      "id": "24c87f10-a7fc-49d7-9ac2-52d1db9aeae1",
      "cell_type": "code",
      "source": "type(int(\"name\")",
      "metadata": {
        "trusted": true
      },
      "outputs": [
        {
          "ename": "<class 'SyntaxError'>",
          "evalue": "incomplete input (<ipython-input-17-c3f612df530d>, line 1)",
          "traceback": [
            "\u001b[0;36m  Cell \u001b[0;32mIn[17], line 1\u001b[0;36m\u001b[0m\n\u001b[0;31m    type(int(\"name\")\u001b[0m\n\u001b[0m                    ^\u001b[0m\n\u001b[0;31mSyntaxError\u001b[0m\u001b[0;31m:\u001b[0m incomplete input\n"
          ],
          "output_type": "error"
        }
      ],
      "execution_count": 17
    },
    {
      "id": "8d03a008-c650-4a7e-af06-a98caa2bd030",
      "cell_type": "code",
      "source": "# Write a program that performs basic arithmetic operations on two user-input numbers.",
      "metadata": {
        "trusted": true
      },
      "outputs": [],
      "execution_count": null
    },
    {
      "id": "6385c904-f14f-4779-90ef-6ffa27fe38f2",
      "cell_type": "code",
      "source": "a=5\nb=7\na+b",
      "metadata": {
        "trusted": true
      },
      "outputs": [],
      "execution_count": null
    },
    {
      "id": "0dcf00c3-5ca7-4508-9206-ded612f4802d",
      "cell_type": "code",
      "source": " # Write a program to demonstrate the use of logical operators",
      "metadata": {
        "trusted": true
      },
      "outputs": [],
      "execution_count": null
    },
    {
      "id": "6165fe73-5ecb-491c-9f78-0fac81ad7169",
      "cell_type": "code",
      "source": "7>9\n",
      "metadata": {
        "trusted": true
      },
      "outputs": [],
      "execution_count": null
    },
    {
      "id": "b49f3f8d-cba9-4e8c-abab-808f8d671b27",
      "cell_type": "code",
      "source": "9==9",
      "metadata": {
        "trusted": true
      },
      "outputs": [],
      "execution_count": null
    },
    {
      "id": "ae1065d7-e13e-4ceb-af9b-2de337d48c4d",
      "cell_type": "code",
      "source": "5>0",
      "metadata": {
        "trusted": true
      },
      "outputs": [],
      "execution_count": null
    },
    {
      "id": "b6d2d902-dfc8-483e-8c43-52b380271d51",
      "cell_type": "code",
      "source": "#Write a Python program to convert user input from string to integer, float, and boolean types.",
      "metadata": {
        "trusted": true
      },
      "outputs": [],
      "execution_count": null
    },
    {
      "id": "e52778c7-2601-41d9-86f2-ba17ba6e7b56",
      "cell_type": "code",
      "source": "user_input = \"25\"   \n\n# Convert to integer\n\nint_value = int(user_input)\n    ",
      "metadata": {
        "trusted": true
      },
      "outputs": [],
      "execution_count": 23
    },
    {
      "id": "4b4861cf-1250-4c6d-8c97-e9836f665565",
      "cell_type": "code",
      "source": "type(int_value)",
      "metadata": {
        "trusted": true
      },
      "outputs": [
        {
          "execution_count": 24,
          "output_type": "execute_result",
          "data": {
            "text/plain": "int"
          },
          "metadata": {}
        }
      ],
      "execution_count": 24
    },
    {
      "id": "30b2ca6b-666d-4811-bb2f-55c04059dbf0",
      "cell_type": "code",
      "source": "user_input=\"7\"\n\n# convert to string\n\nstr_value=str(user_input)\ntype(str_value)",
      "metadata": {
        "trusted": true
      },
      "outputs": [
        {
          "execution_count": 28,
          "output_type": "execute_result",
          "data": {
            "text/plain": "str"
          },
          "metadata": {}
        }
      ],
      "execution_count": 28
    },
    {
      "id": "4349cbd5-c23d-43b8-a503-8b4554f20b9b",
      "cell_type": "code",
      "source": "user_input=7.56232\n\n# convert to int\n\nint_value=int(user_input)\ntype(int_value)",
      "metadata": {
        "trusted": true
      },
      "outputs": [
        {
          "execution_count": 30,
          "output_type": "execute_result",
          "data": {
            "text/plain": "int"
          },
          "metadata": {}
        }
      ],
      "execution_count": 30
    },
    {
      "id": "80489315-32b8-413d-9c02-a6ac809696b7",
      "cell_type": "code",
      "source": "#Write code to demonstrate type casting with list elements.",
      "metadata": {
        "trusted": true
      },
      "outputs": [],
      "execution_count": null
    },
    {
      "id": "db518390-f14b-4098-8b41-a66337de350e",
      "cell_type": "code",
      "source": "str_list = [\"10\", \"20\", \"30\", \"40.5\", \"50.7\", \"True\", \"False\", \"0\"]\n\nprint(\"Original list (strings):\", str_list)",
      "metadata": {
        "trusted": true
      },
      "outputs": [
        {
          "name": "stdout",
          "output_type": "stream",
          "text": "Original list (strings): ['10', '20', '30', '40.5', '50.7', 'True', 'False', '0']\n"
        }
      ],
      "execution_count": 34
    },
    {
      "id": "05aa84fb-7535-455c-a632-7926b97bb03b",
      "cell_type": "code",
      "source": "str_list = [\"10\", \"20\", \"30\", \"40.5\", \"50.7\", \"True\", \"False\", \"0\"]\n\nprint(\"Original list:\", str_list)\n\n# Convert all elements to integers \nint_list = [int(x) for x in [\"10\", \"20\", \"0\"]]  \nprint(\"As integers:\", int_list)",
      "metadata": {
        "trusted": true
      },
      "outputs": [
        {
          "name": "stdout",
          "output_type": "stream",
          "text": "Original list: ['10', '20', '30', '40.5', '50.7', 'True', 'False', '0']\nAs integers: [10, 20, 0]\n"
        }
      ],
      "execution_count": 41
    },
    {
      "id": "6a3e6fd1-f6e0-4a8f-9a9e-3b2b44051069",
      "cell_type": "code",
      "source": "str_list = [10, 20, \"30\", 40.5, \"50.7\", \"True\", \"False\", \"0\"]\n\nprint(\"Original list:\", str_list)\n\n# Convert all elements to strings\nstr_list = [str(x) for x in [10, 20, \"30\", 40.5, \"50.7\", \"True\", \"False\", \"0\"]]  \nprint(\"strings:\", str_list)",
      "metadata": {
        "trusted": true
      },
      "outputs": [
        {
          "name": "stdout",
          "output_type": "stream",
          "text": "Original list: [10, 20, '30', 40.5, '50.7', 'True', 'False', '0']\nstrings: ['10', '20', '30', '40.5', '50.7', 'True', 'False', '0']\n"
        }
      ],
      "execution_count": 42
    },
    {
      "id": "247e27d1-6674-4046-a767-2f18f4ad37e7",
      "cell_type": "code",
      "source": "#Write a program that checks if a number is positive, negative, or zero.",
      "metadata": {
        "trusted": true
      },
      "outputs": [],
      "execution_count": null
    },
    {
      "id": "ac7c97b0-94da-4e30-ac74-bdcb6b1287cf",
      "cell_type": "code",
      "source": "num=5\nif num>0:\n    print (\"positive\")\nelif num<0:\n    print(\"negative\")\nelse:\n    print(\"zero\")\n    ",
      "metadata": {
        "trusted": true
      },
      "outputs": [
        {
          "name": "stdout",
          "output_type": "stream",
          "text": "positive\n"
        }
      ],
      "execution_count": 45
    },
    {
      "id": "4d200075-96f6-4b99-983f-3878689f1b14",
      "cell_type": "code",
      "source": "num=0\nif num>0:\n    print (\"positive\")\nelif num<0:\n    print(\"negative\")\nelse:\n    print(\"zero\")\n    ",
      "metadata": {
        "trusted": true
      },
      "outputs": [
        {
          "name": "stdout",
          "output_type": "stream",
          "text": "zero\n"
        }
      ],
      "execution_count": 46
    },
    {
      "id": "999da143-0346-4fbf-bdb9-d47b992d7662",
      "cell_type": "code",
      "source": "#Write a for loop to print numbers from 1 to 10.",
      "metadata": {
        "trusted": true
      },
      "outputs": [],
      "execution_count": 47
    },
    {
      "id": "f61d0aec-481a-45fb-b49e-aa28656abe10",
      "cell_type": "code",
      "source": "for i in range (0,11):\n    print (i)",
      "metadata": {
        "trusted": true
      },
      "outputs": [
        {
          "name": "stdout",
          "output_type": "stream",
          "text": "0\n1\n2\n3\n4\n5\n6\n7\n8\n9\n10\n"
        }
      ],
      "execution_count": 54
    },
    {
      "id": "be078ae3-036e-4f43-beda-48382aa3ded1",
      "cell_type": "code",
      "source": "#Write a Python program to find the sum of all even numbers between 1 and 50",
      "metadata": {
        "trusted": true
      },
      "outputs": [],
      "execution_count": 55
    },
    {
      "id": "c4d0d418-82d2-4104-acf0-ce9800194280",
      "cell_type": "code",
      "source": "total=0\nfor i in range (0,51,2):\n    total += i\n    print(total)",
      "metadata": {
        "trusted": true
      },
      "outputs": [
        {
          "name": "stdout",
          "output_type": "stream",
          "text": "0\n2\n6\n12\n20\n30\n42\n56\n72\n90\n110\n132\n156\n182\n210\n240\n272\n306\n342\n380\n420\n462\n506\n552\n600\n650\n"
        }
      ],
      "execution_count": 60
    },
    {
      "id": "f07ea93d-a320-4e41-b00a-9df23257fca6",
      "cell_type": "code",
      "source": "#Write a program to reverse a string using a while loop.",
      "metadata": {
        "trusted": true
      },
      "outputs": [],
      "execution_count": 61
    },
    {
      "id": "4436ab87-60a8-46bf-a04b-e910d66be022",
      "cell_type": "code",
      "source": "text = \"Hello World\"\nreversed_text = \"\"\n\ni = len(text) - 1  \n\nwhile i >= 0:\n    reversed_text += text[i]\n    i -= 1\n\nprint(\"Original string:\", text)\nprint(\"Reversed string:\", reversed_text)",
      "metadata": {
        "trusted": true
      },
      "outputs": [
        {
          "name": "stdout",
          "output_type": "stream",
          "text": "Original string: Hello World\nReversed string: dlroW olleH\n"
        }
      ],
      "execution_count": 62
    },
    {
      "id": "cca7b407-05a2-47c0-a178-eb5cc458c022",
      "cell_type": "code",
      "source": "#Write a Python program to calculate the factorial of a number provided by the user using a while loop.",
      "metadata": {
        "trusted": true
      },
      "outputs": [],
      "execution_count": 63
    },
    {
      "id": "e83eb874-36ad-4518-8c57-cd3c8299ca5d",
      "cell_type": "code",
      "source": "num = 6\nfactorial = 1\ni = 1\n\nwhile i <= num:\n    factorial *= i\n    i += 1\n\nprint(\"Factorial of\", num, \"is:\", factorial)",
      "metadata": {
        "trusted": true
      },
      "outputs": [
        {
          "name": "stdout",
          "output_type": "stream",
          "text": "Factorial of 6 is: 720\n"
        }
      ],
      "execution_count": 64
    },
    {
      "id": "70580513-366d-4bf2-bd79-d0db205a0b90",
      "cell_type": "code",
      "source": "",
      "metadata": {
        "trusted": true
      },
      "outputs": [],
      "execution_count": null
    }
  ]
}